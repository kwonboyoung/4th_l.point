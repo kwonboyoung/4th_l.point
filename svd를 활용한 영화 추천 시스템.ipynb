{
 "cells": [
  {
   "cell_type": "code",
   "execution_count": 1,
   "metadata": {
    "collapsed": true
   },
   "outputs": [],
   "source": [
    "import numpy as np\n",
    "import scipy.linalg as sl\n",
    "import matplotlib.pyplot as plt\n",
    "from scipy import stats"
   ]
  },
  {
   "cell_type": "markdown",
   "metadata": {},
   "source": [
    "## 영화 평점 데이터 생성"
   ]
  },
  {
   "cell_type": "code",
   "execution_count": 2,
   "metadata": {
    "collapsed": true
   },
   "outputs": [],
   "source": [
    "movierating = [[1,1,1,0,0],[3,3,3,0,0],[4,4,4,0,0],[5,5,5,0,0],[0,0,0,4,4],[0,0,0,5,5],[0,0,0,2,2]]"
   ]
  },
  {
   "cell_type": "code",
   "execution_count": 3,
   "metadata": {},
   "outputs": [
    {
     "data": {
      "text/plain": [
       "[[1, 1, 1, 0, 0],\n",
       " [3, 3, 3, 0, 0],\n",
       " [4, 4, 4, 0, 0],\n",
       " [5, 5, 5, 0, 0],\n",
       " [0, 0, 0, 4, 4],\n",
       " [0, 0, 0, 5, 5],\n",
       " [0, 0, 0, 2, 2]]"
      ]
     },
     "execution_count": 3,
     "metadata": {},
     "output_type": "execute_result"
    }
   ],
   "source": [
    "movierating"
   ]
  },
  {
   "cell_type": "code",
   "execution_count": 8,
   "metadata": {},
   "outputs": [
    {
     "data": {
      "text/plain": [
       "list"
      ]
     },
     "execution_count": 8,
     "metadata": {},
     "output_type": "execute_result"
    }
   ],
   "source": [
    "type(movierating)"
   ]
  },
  {
   "cell_type": "markdown",
   "metadata": {},
   "source": [
    "## svd 생성"
   ]
  },
  {
   "cell_type": "code",
   "execution_count": 10,
   "metadata": {
    "collapsed": true
   },
   "outputs": [],
   "source": [
    "u, s, vh = np.linalg.svd(movierating, full_matrices=False)\n",
    "assert np.allclose(movierating, np.dot(u, np.dot(np.diag(s), vh)))"
   ]
  },
  {
   "cell_type": "markdown",
   "metadata": {},
   "source": [
    "### 사용자"
   ]
  },
  {
   "cell_type": "code",
   "execution_count": 11,
   "metadata": {},
   "outputs": [
    {
     "data": {
      "text/plain": [
       "array([[-0.14002801,  0.        ,  0.41748286, -0.56011203, -0.42008403],\n",
       "       [-0.42008403,  0.        ,  0.15383647, -0.20639328,  0.84520504],\n",
       "       [-0.56011203,  0.        ,  0.20511529,  0.72480896, -0.20639328],\n",
       "       [-0.70014004,  0.        , -0.33989068, -0.3439888 , -0.2579916 ],\n",
       "       [ 0.        , -0.59628479,  0.64444444,  0.        ,  0.        ],\n",
       "       [ 0.        , -0.74535599, -0.44444444,  0.        ,  0.        ],\n",
       "       [ 0.        , -0.2981424 , -0.17777778,  0.        ,  0.        ]])"
      ]
     },
     "execution_count": 11,
     "metadata": {},
     "output_type": "execute_result"
    }
   ],
   "source": [
    "u"
   ]
  },
  {
   "cell_type": "markdown",
   "metadata": {},
   "source": [
    "### concept(대각행렬) 특이값 확인"
   ]
  },
  {
   "cell_type": "code",
   "execution_count": 12,
   "metadata": {},
   "outputs": [
    {
     "data": {
      "text/plain": [
       "array([ 12.36931688,   9.48683298,   0.        ,   0.        ,   0.        ])"
      ]
     },
     "execution_count": 12,
     "metadata": {},
     "output_type": "execute_result"
    }
   ],
   "source": [
    "s"
   ]
  },
  {
   "cell_type": "markdown",
   "metadata": {},
   "source": [
    "### 영화"
   ]
  },
  {
   "cell_type": "code",
   "execution_count": 46,
   "metadata": {},
   "outputs": [
    {
     "data": {
      "text/plain": [
       "array([[-0.57735027, -0.57735027, -0.57735027,  0.        ,  0.        ],\n",
       "       [-0.        , -0.        , -0.        , -0.70710678, -0.70710678],\n",
       "       [ 0.        ,  0.        ,  0.        , -0.70710678,  0.70710678],\n",
       "       [ 0.        , -0.70710678,  0.70710678,  0.        ,  0.        ],\n",
       "       [ 0.81649658, -0.40824829, -0.40824829,  0.        ,  0.        ]])"
      ]
     },
     "execution_count": 46,
     "metadata": {},
     "output_type": "execute_result"
    }
   ],
   "source": [
    "vh"
   ]
  },
  {
   "cell_type": "markdown",
   "metadata": {},
   "source": [
    "## 특이값 matrix로 확인"
   ]
  },
  {
   "cell_type": "code",
   "execution_count": 18,
   "metadata": {},
   "outputs": [
    {
     "data": {
      "text/plain": [
       "array([[ 12.36931688,   0.        ,   0.        ,   0.        ,   0.        ],\n",
       "       [  0.        ,   9.48683298,   0.        ,   0.        ,   0.        ],\n",
       "       [  0.        ,   0.        ,   0.        ,   0.        ,   0.        ],\n",
       "       [  0.        ,   0.        ,   0.        ,   0.        ,   0.        ],\n",
       "       [  0.        ,   0.        ,   0.        ,   0.        ,   0.        ]])"
      ]
     },
     "execution_count": 18,
     "metadata": {},
     "output_type": "execute_result"
    }
   ],
   "source": [
    "S = np.diag(s)\n",
    "S"
   ]
  },
  {
   "cell_type": "code",
   "execution_count": 21,
   "metadata": {},
   "outputs": [
    {
     "data": {
      "image/png": "[encoded data removed]",
      "text/plain": [
       "<matplotlib.figure.Figure at 0x6132bf710>"
      ]
     },
     "metadata": {},
     "output_type": "display_data"
    }
   ],
   "source": [
    "plt.plot(s)\n",
    "plt.show()"
   ]
  },
  {
   "cell_type": "markdown",
   "metadata": {},
   "source": [
    "특이값은 경험상 90%에 해당하는 에너지를 차지할 만큼 충분한 특이 값들을 보유하는 것이 좋은 방법입니다. 즉, 보유한 특이 값들의 제곱의 합이 모든 특이 값의 제곱의 합에 최소 90%가 되어야 합니다. 스텐포드 대학교의 추천 시스템 강의에서는 80%~90%의 에너지를 유지하라고 가이드 합니다.\n",
    "\n",
    "아래 데이터 기준으로 2개의 특이값을 선택하면 된다."
   ]
  },
  {
   "cell_type": "code",
   "execution_count": 29,
   "metadata": {
    "collapsed": true
   },
   "outputs": [],
   "source": [
    "s_svd = np.cumsum(s**2/sum(s**2))"
   ]
  },
  {
   "cell_type": "code",
   "execution_count": 30,
   "metadata": {},
   "outputs": [
    {
     "data": {
      "image/png": "[encoded data removed]",
      "text/plain": [
       "<matplotlib.figure.Figure at 0x613558c88>"
      ]
     },
     "metadata": {},
     "output_type": "display_data"
    }
   ],
   "source": [
    "plt.plot(s_svd)\n",
    "plt.show()"
   ]
  },
  {
   "cell_type": "markdown",
   "metadata": {},
   "source": [
    "## 차원 축소값 만들기"
   ]
  },
  {
   "cell_type": "code",
   "execution_count": 35,
   "metadata": {},
   "outputs": [
    {
     "data": {
      "text/plain": [
       "array([[-0.14002801,  0.        ],\n",
       "       [-0.42008403,  0.        ],\n",
       "       [-0.56011203,  0.        ],\n",
       "       [-0.70014004,  0.        ],\n",
       "       [ 0.        , -0.59628479],\n",
       "       [ 0.        , -0.74535599],\n",
       "       [ 0.        , -0.2981424 ]])"
      ]
     },
     "execution_count": 35,
     "metadata": {},
     "output_type": "execute_result"
    }
   ],
   "source": [
    "U = u[0:8, 0:2]\n",
    "U"
   ]
  },
  {
   "cell_type": "code",
   "execution_count": 37,
   "metadata": {},
   "outputs": [
    {
     "data": {
      "text/plain": [
       "array([[ 12.36931688,   0.        ],\n",
       "       [  0.        ,   9.48683298]])"
      ]
     },
     "execution_count": 37,
     "metadata": {},
     "output_type": "execute_result"
    }
   ],
   "source": [
    "S = np.diag(s[0:2])\n",
    "S"
   ]
  },
  {
   "cell_type": "code",
   "execution_count": 51,
   "metadata": {},
   "outputs": [
    {
     "data": {
      "text/plain": [
       "array([[-0.57735027, -0.57735027, -0.57735027,  0.        ,  0.        ],\n",
       "       [-0.        , -0.        , -0.        , -0.70710678, -0.70710678]])"
      ]
     },
     "execution_count": 51,
     "metadata": {},
     "output_type": "execute_result"
    }
   ],
   "source": [
    "VH = vh[0:2,0:5]\n",
    "VH"
   ]
  },
  {
   "cell_type": "markdown",
   "metadata": {},
   "source": [
    "## 원래 평점데이터로 만들기"
   ]
  },
  {
   "cell_type": "code",
   "execution_count": 55,
   "metadata": {},
   "outputs": [
    {
     "data": {
      "text/plain": [
       "array([[ 1.,  1.,  1.,  0.,  0.],\n",
       "       [ 3.,  3.,  3.,  0.,  0.],\n",
       "       [ 4.,  4.,  4.,  0.,  0.],\n",
       "       [ 5.,  5.,  5.,  0.,  0.],\n",
       "       [ 0.,  0.,  0.,  4.,  4.],\n",
       "       [ 0.,  0.,  0.,  5.,  5.],\n",
       "       [ 0.,  0.,  0.,  2.,  2.]])"
      ]
     },
     "execution_count": 55,
     "metadata": {},
     "output_type": "execute_result"
    }
   ],
   "source": [
    "np.matmul(np.matmul(U,S),VH)"
   ]
  },
  {
   "cell_type": "markdown",
   "metadata": {},
   "source": [
    "## 영화를 평가한 아이템간의 유사도 구하기"
   ]
  },
  {
   "cell_type": "code",
   "execution_count": 61,
   "metadata": {},
   "outputs": [
    {
     "data": {
      "text/plain": [
       "array([[ 1.        ,  1.        ,  1.        , -0.74878347, -0.74878347],\n",
       "       [ 1.        ,  1.        ,  1.        , -0.74878347, -0.74878347],\n",
       "       [ 1.        ,  1.        ,  1.        , -0.74878347, -0.74878347],\n",
       "       [-0.74878347, -0.74878347, -0.74878347,  1.        ,  1.        ],\n",
       "       [-0.74878347, -0.74878347, -0.74878347,  1.        ,  1.        ]])"
      ]
     },
     "execution_count": 61,
     "metadata": {},
     "output_type": "execute_result"
    }
   ],
   "source": [
    "np.corrcoef(np.transpose(movierating))"
   ]
  },
  {
   "cell_type": "code",
   "execution_count": 66,
   "metadata": {},
   "outputs": [
    {
     "data": {
      "text/plain": [
       "array([[-7.14142843, -7.14142843, -7.14142843,  0.        ,  0.        ],\n",
       "       [ 0.        ,  0.        ,  0.        , -6.70820393, -6.70820393]])"
      ]
     },
     "execution_count": 66,
     "metadata": {},
     "output_type": "execute_result"
    }
   ],
   "source": [
    "item = np.matmul(S,VH)\n",
    "item"
   ]
  },
  {
   "cell_type": "code",
   "execution_count": 69,
   "metadata": {},
   "outputs": [
    {
     "data": {
      "text/plain": [
       "array([[ 1.,  1.,  1., -1., -1.],\n",
       "       [ 1.,  1.,  1., -1., -1.],\n",
       "       [ 1.,  1.,  1., -1., -1.],\n",
       "       [-1., -1., -1.,  1.,  1.],\n",
       "       [-1., -1., -1.,  1.,  1.]])"
      ]
     },
     "execution_count": 69,
     "metadata": {},
     "output_type": "execute_result"
    }
   ],
   "source": [
    "np.corrcoef(np.transpose(item))"
   ]
  },
  {
   "cell_type": "markdown",
   "metadata": {},
   "source": [
    "## 영화를 평가한 사용자간의 유사도 구하기"
   ]
  },
  {
   "cell_type": "code",
   "execution_count": 62,
   "metadata": {},
   "outputs": [
    {
     "data": {
      "text/plain": [
       "array([[ 1.,  1.,  1.,  1., -1., -1., -1.],\n",
       "       [ 1.,  1.,  1.,  1., -1., -1., -1.],\n",
       "       [ 1.,  1.,  1.,  1., -1., -1., -1.],\n",
       "       [ 1.,  1.,  1.,  1., -1., -1., -1.],\n",
       "       [-1., -1., -1., -1.,  1.,  1.,  1.],\n",
       "       [-1., -1., -1., -1.,  1.,  1.,  1.],\n",
       "       [-1., -1., -1., -1.,  1.,  1.,  1.]])"
      ]
     },
     "execution_count": 62,
     "metadata": {},
     "output_type": "execute_result"
    }
   ],
   "source": [
    "np.corrcoef(movierating)"
   ]
  },
  {
   "cell_type": "code",
   "execution_count": 63,
   "metadata": {},
   "outputs": [
    {
     "data": {
      "text/plain": [
       "array([[-1.73205081,  0.        ],\n",
       "       [-5.19615242,  0.        ],\n",
       "       [-6.92820323,  0.        ],\n",
       "       [-8.66025404,  0.        ],\n",
       "       [ 0.        , -5.65685425],\n",
       "       [ 0.        , -7.07106781],\n",
       "       [ 0.        , -2.82842712]])"
      ]
     },
     "execution_count": 63,
     "metadata": {},
     "output_type": "execute_result"
    }
   ],
   "source": [
    "user = np.matmul(U,S)\n",
    "user"
   ]
  },
  {
   "cell_type": "code",
   "execution_count": 64,
   "metadata": {},
   "outputs": [
    {
     "data": {
      "text/plain": [
       "array([[ 1.,  1.,  1.,  1., -1., -1., -1.],\n",
       "       [ 1.,  1.,  1.,  1., -1., -1., -1.],\n",
       "       [ 1.,  1.,  1.,  1., -1., -1., -1.],\n",
       "       [ 1.,  1.,  1.,  1., -1., -1., -1.],\n",
       "       [-1., -1., -1., -1.,  1.,  1.,  1.],\n",
       "       [-1., -1., -1., -1.,  1.,  1.,  1.],\n",
       "       [-1., -1., -1., -1.,  1.,  1.,  1.]])"
      ]
     },
     "execution_count": 64,
     "metadata": {},
     "output_type": "execute_result"
    }
   ],
   "source": [
    "np.corrcoef(user)"
   ]
  },
  {
   "cell_type": "markdown",
   "metadata": {},
   "source": [
    "## 번외"
   ]
  },
  {
   "cell_type": "code",
   "execution_count": 14,
   "metadata": {},
   "outputs": [
    {
     "name": "stdout",
     "output_type": "stream",
     "text": [
      "[[ 1.  1.  1.  0.  0.]\n",
      " [ 3.  3.  3.  0.  0.]\n",
      " [ 4.  4.  4.  0.  0.]\n",
      " [ 5.  5.  5.  0.  0.]\n",
      " [ 0.  0.  0.  4.  4.]\n",
      " [ 0.  0.  0.  5.  5.]\n",
      " [ 0.  0.  0.  2.  2.]]\n"
     ]
    }
   ],
   "source": [
    "new_movierating = np.dot(u,np.dot(np.diag(s),vh))\n",
    "print(new_movierating)"
   ]
  },
  {
   "cell_type": "code",
   "execution_count": 16,
   "metadata": {},
   "outputs": [
    {
     "data": {
      "image/png": "[encoded data removed]",
      "text/plain": [
       "<matplotlib.figure.Figure at 0x612d8ef60>"
      ]
     },
     "metadata": {},
     "output_type": "display_data"
    }
   ],
   "source": [
    "plt.plot(new_movierating)\n",
    "plt.show()"
   ]
  }
 ],
 "metadata": {
  "kernelspec": {
   "display_name": "Python 3",
   "language": "python",
   "name": "python3"
  },
  "language_info": {
   "codemirror_mode": {
    "name": "ipython",
    "version": 3
   },
   "file_extension": ".py",
   "mimetype": "text/x-python",
   "name": "python",
   "nbconvert_exporter": "python",
   "pygments_lexer": "ipython3",
   "version": "3.6.3"
  }
 },
 "nbformat": 4,
 "nbformat_minor": 2
}
