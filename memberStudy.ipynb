{
 "cells": [
  {
   "cell_type": "code",
   "execution_count": 2,
   "metadata": {
    "collapsed": true
   },
   "outputs": [],
   "source": [
    "from IPython.core.interactiveshell import InteractiveShell\n",
    "InteractiveShell.ast_node_interactivity = \"all\" #'last' 기본값"
   ]
  },
  {
   "cell_type": "code",
   "execution_count": 1,
   "metadata": {
    "collapsed": true
   },
   "outputs": [],
   "source": [
    "import dask.dataframe as dd"
   ]
  },
  {
   "cell_type": "code",
   "execution_count": 2,
   "metadata": {
    "collapsed": true
   },
   "outputs": [],
   "source": [
    "import pandas as pd"
   ]
  },
  {
   "cell_type": "code",
   "execution_count": 3,
   "metadata": {
    "collapsed": true
   },
   "outputs": [],
   "source": [
    "from datetime import datetime"
   ]
  },
  {
   "cell_type": "code",
   "execution_count": 4,
   "metadata": {
    "collapsed": true
   },
   "outputs": [],
   "source": [
    "import matplotlib.pyplot as plt\n",
    "plt.rc('figure', figsize=(12, 4))"
   ]
  },
  {
   "cell_type": "markdown",
   "metadata": {},
   "source": [
    "## Member Data"
   ]
  },
  {
   "cell_type": "code",
   "execution_count": 5,
   "metadata": {},
   "outputs": [
    {
     "data": {
      "text/html": [
       "<div>\n",
       "<style>\n",
       "    .dataframe thead tr:only-child th {\n",
       "        text-align: right;\n",
       "    }\n",
       "\n",
       "    .dataframe thead th {\n",
       "        text-align: left;\n",
       "    }\n",
       "\n",
       "    .dataframe tbody tr th {\n",
       "        vertical-align: top;\n",
       "    }\n",
       "</style>\n",
       "<table border=\"1\" class=\"dataframe\">\n",
       "  <thead>\n",
       "    <tr style=\"text-align: right;\">\n",
       "      <th></th>\n",
       "      <th>msno</th>\n",
       "      <th>city</th>\n",
       "      <th>bd</th>\n",
       "      <th>gender</th>\n",
       "      <th>registered_via</th>\n",
       "      <th>registration_init_time</th>\n",
       "    </tr>\n",
       "  </thead>\n",
       "  <tbody>\n",
       "    <tr>\n",
       "      <th>0</th>\n",
       "      <td>Rb9UwLQTrxzBVwCB6+bCcSQWZ9JiNLC9dXtM1oEsZA8=</td>\n",
       "      <td>1</td>\n",
       "      <td>0</td>\n",
       "      <td>NaN</td>\n",
       "      <td>11</td>\n",
       "      <td>20110911</td>\n",
       "    </tr>\n",
       "    <tr>\n",
       "      <th>1</th>\n",
       "      <td>+tJonkh+O1CA796Fm5X60UMOtB6POHAwPjbTRVl/EuU=</td>\n",
       "      <td>1</td>\n",
       "      <td>0</td>\n",
       "      <td>NaN</td>\n",
       "      <td>7</td>\n",
       "      <td>20110914</td>\n",
       "    </tr>\n",
       "    <tr>\n",
       "      <th>2</th>\n",
       "      <td>cV358ssn7a0f7jZOwGNWS07wCKVqxyiImJUX6xcIwKw=</td>\n",
       "      <td>1</td>\n",
       "      <td>0</td>\n",
       "      <td>NaN</td>\n",
       "      <td>11</td>\n",
       "      <td>20110915</td>\n",
       "    </tr>\n",
       "    <tr>\n",
       "      <th>3</th>\n",
       "      <td>9bzDeJP6sQodK73K5CBlJ6fgIQzPeLnRl0p5B77XP+g=</td>\n",
       "      <td>1</td>\n",
       "      <td>0</td>\n",
       "      <td>NaN</td>\n",
       "      <td>11</td>\n",
       "      <td>20110915</td>\n",
       "    </tr>\n",
       "    <tr>\n",
       "      <th>4</th>\n",
       "      <td>WFLY3s7z4EZsieHCt63XrsdtfTEmJ+2PnnKLH5GY4Tk=</td>\n",
       "      <td>6</td>\n",
       "      <td>32</td>\n",
       "      <td>female</td>\n",
       "      <td>9</td>\n",
       "      <td>20110915</td>\n",
       "    </tr>\n",
       "    <tr>\n",
       "      <th>5</th>\n",
       "      <td>yLkV2gbZ4GLFwqTOXLVHz0VGrMYcgBGgKZ3kj9RiYu8=</td>\n",
       "      <td>4</td>\n",
       "      <td>30</td>\n",
       "      <td>male</td>\n",
       "      <td>9</td>\n",
       "      <td>20110916</td>\n",
       "    </tr>\n",
       "    <tr>\n",
       "      <th>6</th>\n",
       "      <td>jNCGK78YkTyId3H3wFavcBLDmz7pfqlvCfUKf4G1Lw4=</td>\n",
       "      <td>1</td>\n",
       "      <td>0</td>\n",
       "      <td>NaN</td>\n",
       "      <td>7</td>\n",
       "      <td>20110916</td>\n",
       "    </tr>\n",
       "    <tr>\n",
       "      <th>7</th>\n",
       "      <td>WH5Jq4mgtfUFXh2yz+HrcTXKS4Oess4k4W3qKolAeb0=</td>\n",
       "      <td>5</td>\n",
       "      <td>34</td>\n",
       "      <td>male</td>\n",
       "      <td>9</td>\n",
       "      <td>20110916</td>\n",
       "    </tr>\n",
       "    <tr>\n",
       "      <th>8</th>\n",
       "      <td>tKmbR4X5VXjHmxERrckawEMZ4znVy1lAQIR1vV5rdNk=</td>\n",
       "      <td>5</td>\n",
       "      <td>19</td>\n",
       "      <td>male</td>\n",
       "      <td>9</td>\n",
       "      <td>20110917</td>\n",
       "    </tr>\n",
       "    <tr>\n",
       "      <th>9</th>\n",
       "      <td>I0yFvqMoNkM8ZNHb617e1RBzIS/YRKemHO7Wj13EtA0=</td>\n",
       "      <td>13</td>\n",
       "      <td>63</td>\n",
       "      <td>male</td>\n",
       "      <td>9</td>\n",
       "      <td>20110918</td>\n",
       "    </tr>\n",
       "    <tr>\n",
       "      <th>10</th>\n",
       "      <td>OoDwiKZM+ZGr9P3fRivavgOtglTEaNfWJO4KaJcTTts=</td>\n",
       "      <td>1</td>\n",
       "      <td>0</td>\n",
       "      <td>NaN</td>\n",
       "      <td>7</td>\n",
       "      <td>20110918</td>\n",
       "    </tr>\n",
       "    <tr>\n",
       "      <th>11</th>\n",
       "      <td>dCvvBHlaOAqgkAcv36IZ9twaCyH0Z9om0wEiKn13B3o=</td>\n",
       "      <td>22</td>\n",
       "      <td>18</td>\n",
       "      <td>male</td>\n",
       "      <td>9</td>\n",
       "      <td>20110919</td>\n",
       "    </tr>\n",
       "    <tr>\n",
       "      <th>12</th>\n",
       "      <td>6bra2AiVV8SGlm7R6mp97Ot5jU9FBH2/8JaRk0iaKco=</td>\n",
       "      <td>4</td>\n",
       "      <td>34</td>\n",
       "      <td>female</td>\n",
       "      <td>9</td>\n",
       "      <td>20110919</td>\n",
       "    </tr>\n",
       "    <tr>\n",
       "      <th>13</th>\n",
       "      <td>4De1jAxNRABoyRBDZ82U0yEmzYkqeOugRGVNIf92Xb8=</td>\n",
       "      <td>4</td>\n",
       "      <td>28</td>\n",
       "      <td>female</td>\n",
       "      <td>9</td>\n",
       "      <td>20110920</td>\n",
       "    </tr>\n",
       "    <tr>\n",
       "      <th>14</th>\n",
       "      <td>iOzdu4IHbJxhB5CPpiQsZcGdptCm7OLwWm1Ci6oHLSE=</td>\n",
       "      <td>12</td>\n",
       "      <td>29</td>\n",
       "      <td>female</td>\n",
       "      <td>9</td>\n",
       "      <td>20110922</td>\n",
       "    </tr>\n",
       "    <tr>\n",
       "      <th>15</th>\n",
       "      <td>hZia/3iyvtThD1kv6ozRjRj8T0CAz0+zUFxs3e27wo8=</td>\n",
       "      <td>1</td>\n",
       "      <td>0</td>\n",
       "      <td>NaN</td>\n",
       "      <td>9</td>\n",
       "      <td>20110922</td>\n",
       "    </tr>\n",
       "    <tr>\n",
       "      <th>16</th>\n",
       "      <td>QlDflP89J5KChheo2sbtH++SSDY/hUDj54gkgdfE76U=</td>\n",
       "      <td>1</td>\n",
       "      <td>0</td>\n",
       "      <td>NaN</td>\n",
       "      <td>9</td>\n",
       "      <td>20110922</td>\n",
       "    </tr>\n",
       "    <tr>\n",
       "      <th>17</th>\n",
       "      <td>fOpj0ApSXk1NVODvC5db5Tvm/1G6exXxgTiCwTqvQn0=</td>\n",
       "      <td>13</td>\n",
       "      <td>31</td>\n",
       "      <td>female</td>\n",
       "      <td>7</td>\n",
       "      <td>20110923</td>\n",
       "    </tr>\n",
       "    <tr>\n",
       "      <th>18</th>\n",
       "      <td>GsPgdrXoV6688/0RFAwjKxQUpBB28JxK/Nx45kEpH60=</td>\n",
       "      <td>1</td>\n",
       "      <td>0</td>\n",
       "      <td>NaN</td>\n",
       "      <td>7</td>\n",
       "      <td>20110924</td>\n",
       "    </tr>\n",
       "    <tr>\n",
       "      <th>19</th>\n",
       "      <td>QHHKGOY5yLrGdR8WYb0JtdJTP36Ii1QP3QTXxjEpGLk=</td>\n",
       "      <td>5</td>\n",
       "      <td>19</td>\n",
       "      <td>female</td>\n",
       "      <td>9</td>\n",
       "      <td>20110925</td>\n",
       "    </tr>\n",
       "    <tr>\n",
       "      <th>20</th>\n",
       "      <td>SpiCVwYrNY2XIpPpZkHHq4LDTfYyPNxBx7e+klc19H4=</td>\n",
       "      <td>15</td>\n",
       "      <td>22</td>\n",
       "      <td>female</td>\n",
       "      <td>9</td>\n",
       "      <td>20110925</td>\n",
       "    </tr>\n",
       "    <tr>\n",
       "      <th>21</th>\n",
       "      <td>+N2Na8js4BYLhkDXYD94o/5Tn5j1yi9u/+6F8an1MUs=</td>\n",
       "      <td>4</td>\n",
       "      <td>23</td>\n",
       "      <td>male</td>\n",
       "      <td>9</td>\n",
       "      <td>20110925</td>\n",
       "    </tr>\n",
       "    <tr>\n",
       "      <th>22</th>\n",
       "      <td>F6F2FJSHqQ/TLf7fQHJe1nbonEZmrCHtzG87U8VD9rE=</td>\n",
       "      <td>11</td>\n",
       "      <td>22</td>\n",
       "      <td>female</td>\n",
       "      <td>9</td>\n",
       "      <td>20110925</td>\n",
       "    </tr>\n",
       "    <tr>\n",
       "      <th>23</th>\n",
       "      <td>FotY8kXSC6tIyCuVn0NoaXjo0Hd854wuoNMWuwHaLIA=</td>\n",
       "      <td>5</td>\n",
       "      <td>29</td>\n",
       "      <td>male</td>\n",
       "      <td>9</td>\n",
       "      <td>20110926</td>\n",
       "    </tr>\n",
       "    <tr>\n",
       "      <th>24</th>\n",
       "      <td>glvtik6LgKzz/VHI8f7dAAHW4iqU8azER8mEsImDe78=</td>\n",
       "      <td>9</td>\n",
       "      <td>21</td>\n",
       "      <td>male</td>\n",
       "      <td>9</td>\n",
       "      <td>20110926</td>\n",
       "    </tr>\n",
       "    <tr>\n",
       "      <th>25</th>\n",
       "      <td>x+j0IrKnXLIqZawwAtwldq2by7TLMKyohbtSeT5gtDg=</td>\n",
       "      <td>9</td>\n",
       "      <td>22</td>\n",
       "      <td>male</td>\n",
       "      <td>9</td>\n",
       "      <td>20110926</td>\n",
       "    </tr>\n",
       "    <tr>\n",
       "      <th>26</th>\n",
       "      <td>7XXoaLnR+58yBjV/dtpvsvnkbadWYxO3+KkLgaaJ0VM=</td>\n",
       "      <td>5</td>\n",
       "      <td>28</td>\n",
       "      <td>male</td>\n",
       "      <td>7</td>\n",
       "      <td>20110927</td>\n",
       "    </tr>\n",
       "    <tr>\n",
       "      <th>27</th>\n",
       "      <td>GqYHRxlZChiZvB1uzR410wcQzuxqZNZci4AzOTzkAao=</td>\n",
       "      <td>5</td>\n",
       "      <td>27</td>\n",
       "      <td>male</td>\n",
       "      <td>9</td>\n",
       "      <td>20110927</td>\n",
       "    </tr>\n",
       "    <tr>\n",
       "      <th>28</th>\n",
       "      <td>vqz848bjeylg9nGoax8X4qQX2IX8qPwEq+4vbOpgy4c=</td>\n",
       "      <td>13</td>\n",
       "      <td>47</td>\n",
       "      <td>female</td>\n",
       "      <td>7</td>\n",
       "      <td>20110928</td>\n",
       "    </tr>\n",
       "    <tr>\n",
       "      <th>29</th>\n",
       "      <td>ZXtW2HuuVK4aPiO10RhBWT1PmLV+bKqnFlT5bL6YhoQ=</td>\n",
       "      <td>4</td>\n",
       "      <td>0</td>\n",
       "      <td>NaN</td>\n",
       "      <td>9</td>\n",
       "      <td>20110928</td>\n",
       "    </tr>\n",
       "    <tr>\n",
       "      <th>...</th>\n",
       "      <td>...</td>\n",
       "      <td>...</td>\n",
       "      <td>...</td>\n",
       "      <td>...</td>\n",
       "      <td>...</td>\n",
       "      <td>...</td>\n",
       "    </tr>\n",
       "    <tr>\n",
       "      <th>6769443</th>\n",
       "      <td>dz8iQV2eZCBZo1DjKL7OifsiyzGf3xyMaCFDOJHVeyc=</td>\n",
       "      <td>1</td>\n",
       "      <td>0</td>\n",
       "      <td>NaN</td>\n",
       "      <td>7</td>\n",
       "      <td>20151020</td>\n",
       "    </tr>\n",
       "    <tr>\n",
       "      <th>6769444</th>\n",
       "      <td>hc/t3OlBHhN/99/usrWrjGJTlf9wbAcOeHMBJ41QTN0=</td>\n",
       "      <td>1</td>\n",
       "      <td>0</td>\n",
       "      <td>NaN</td>\n",
       "      <td>4</td>\n",
       "      <td>20151020</td>\n",
       "    </tr>\n",
       "    <tr>\n",
       "      <th>6769445</th>\n",
       "      <td>6GUYpq8GC07duotA9Ww9EXCuhPaLAXBgKGSeR7jkWKo=</td>\n",
       "      <td>1</td>\n",
       "      <td>0</td>\n",
       "      <td>NaN</td>\n",
       "      <td>4</td>\n",
       "      <td>20151020</td>\n",
       "    </tr>\n",
       "    <tr>\n",
       "      <th>6769446</th>\n",
       "      <td>kB6WjrrdzSl0GMASY6BagCSV72TcwasA4W6vY8KmV5Q=</td>\n",
       "      <td>1</td>\n",
       "      <td>0</td>\n",
       "      <td>NaN</td>\n",
       "      <td>4</td>\n",
       "      <td>20151020</td>\n",
       "    </tr>\n",
       "    <tr>\n",
       "      <th>6769447</th>\n",
       "      <td>yBIr7TnCh8W2zZ+tmsoQ/4FO1TBELCLiT3iR+Xoq5/c=</td>\n",
       "      <td>1</td>\n",
       "      <td>0</td>\n",
       "      <td>NaN</td>\n",
       "      <td>4</td>\n",
       "      <td>20151020</td>\n",
       "    </tr>\n",
       "    <tr>\n",
       "      <th>6769448</th>\n",
       "      <td>LfE8yToqqHz5HoIglTJSrNA3jUNGSnWZEgS/+O87rsk=</td>\n",
       "      <td>13</td>\n",
       "      <td>22</td>\n",
       "      <td>male</td>\n",
       "      <td>4</td>\n",
       "      <td>20151020</td>\n",
       "    </tr>\n",
       "    <tr>\n",
       "      <th>6769449</th>\n",
       "      <td>B3Ej5OgW2lauvRkxy0lLVGYhcRoyxANUURIm/EbfNX8=</td>\n",
       "      <td>1</td>\n",
       "      <td>0</td>\n",
       "      <td>NaN</td>\n",
       "      <td>4</td>\n",
       "      <td>20151020</td>\n",
       "    </tr>\n",
       "    <tr>\n",
       "      <th>6769450</th>\n",
       "      <td>8KEWLOUggktIjiT3bKpgcACB3WbkoP74WabNYz2EVE0=</td>\n",
       "      <td>1</td>\n",
       "      <td>0</td>\n",
       "      <td>NaN</td>\n",
       "      <td>4</td>\n",
       "      <td>20151020</td>\n",
       "    </tr>\n",
       "    <tr>\n",
       "      <th>6769451</th>\n",
       "      <td>zEbFxXsp+eaHF8tSEASFSJfTjaes+zNYLmTlpA3HHUU=</td>\n",
       "      <td>1</td>\n",
       "      <td>0</td>\n",
       "      <td>NaN</td>\n",
       "      <td>4</td>\n",
       "      <td>20151020</td>\n",
       "    </tr>\n",
       "    <tr>\n",
       "      <th>6769452</th>\n",
       "      <td>nekPR84bVpE4HSgxlW4H3+SIxLJWZCSctP0VEFrT1Pk=</td>\n",
       "      <td>15</td>\n",
       "      <td>19</td>\n",
       "      <td>male</td>\n",
       "      <td>4</td>\n",
       "      <td>20151020</td>\n",
       "    </tr>\n",
       "    <tr>\n",
       "      <th>6769453</th>\n",
       "      <td>WDGMzy3arZrbDZWAd/BaWTKmILEF9N2zHRN2gfciPKY=</td>\n",
       "      <td>1</td>\n",
       "      <td>0</td>\n",
       "      <td>NaN</td>\n",
       "      <td>4</td>\n",
       "      <td>20151020</td>\n",
       "    </tr>\n",
       "    <tr>\n",
       "      <th>6769454</th>\n",
       "      <td>wv7xKoYMhXk+UT6x6GDrXC3aJ7O5RPWXZhSkS9TfLl0=</td>\n",
       "      <td>6</td>\n",
       "      <td>32</td>\n",
       "      <td>male</td>\n",
       "      <td>4</td>\n",
       "      <td>20151020</td>\n",
       "    </tr>\n",
       "    <tr>\n",
       "      <th>6769455</th>\n",
       "      <td>IwDZCuhB0UP7wrBwuqE1r1jQIA0yFSTqUGlGJnM+hMI=</td>\n",
       "      <td>1</td>\n",
       "      <td>52</td>\n",
       "      <td>male</td>\n",
       "      <td>4</td>\n",
       "      <td>20151020</td>\n",
       "    </tr>\n",
       "    <tr>\n",
       "      <th>6769456</th>\n",
       "      <td>O17RLjJp7AVhS1G1TJ8LjZHoIeoeGi1jwlV3kIth47Q=</td>\n",
       "      <td>1</td>\n",
       "      <td>0</td>\n",
       "      <td>NaN</td>\n",
       "      <td>4</td>\n",
       "      <td>20151020</td>\n",
       "    </tr>\n",
       "    <tr>\n",
       "      <th>6769457</th>\n",
       "      <td>YOqjbC7RQVk/tLpavVvqSFCoZJ7iUjeG6uTvc9JW9nA=</td>\n",
       "      <td>1</td>\n",
       "      <td>0</td>\n",
       "      <td>NaN</td>\n",
       "      <td>4</td>\n",
       "      <td>20151020</td>\n",
       "    </tr>\n",
       "    <tr>\n",
       "      <th>6769458</th>\n",
       "      <td>lN70dnrI/8KjuUfSZPQ4mVCHJXFwpfaXsmnrAWvRB90=</td>\n",
       "      <td>1</td>\n",
       "      <td>0</td>\n",
       "      <td>NaN</td>\n",
       "      <td>9</td>\n",
       "      <td>20151020</td>\n",
       "    </tr>\n",
       "    <tr>\n",
       "      <th>6769459</th>\n",
       "      <td>swUHFmY7ArwcqVEA8UsukGriyE4iGHIukuaG69UGajU=</td>\n",
       "      <td>1</td>\n",
       "      <td>0</td>\n",
       "      <td>NaN</td>\n",
       "      <td>4</td>\n",
       "      <td>20151020</td>\n",
       "    </tr>\n",
       "    <tr>\n",
       "      <th>6769460</th>\n",
       "      <td>PzjxWRuTQAJ3riOHWT6nBTiPrHW/JvUG3rrSfTMYIpY=</td>\n",
       "      <td>1</td>\n",
       "      <td>0</td>\n",
       "      <td>NaN</td>\n",
       "      <td>4</td>\n",
       "      <td>20151020</td>\n",
       "    </tr>\n",
       "    <tr>\n",
       "      <th>6769461</th>\n",
       "      <td>P8weYpM9bCHGGvoUFAhJRRDEaehliI7m0eq51ahKxK4=</td>\n",
       "      <td>1</td>\n",
       "      <td>0</td>\n",
       "      <td>NaN</td>\n",
       "      <td>4</td>\n",
       "      <td>20151020</td>\n",
       "    </tr>\n",
       "    <tr>\n",
       "      <th>6769462</th>\n",
       "      <td>y0rwiAeU5goDatsiUDulPdiJpohZ15hxUAkSJHccnvY=</td>\n",
       "      <td>8</td>\n",
       "      <td>32</td>\n",
       "      <td>female</td>\n",
       "      <td>9</td>\n",
       "      <td>20151020</td>\n",
       "    </tr>\n",
       "    <tr>\n",
       "      <th>6769463</th>\n",
       "      <td>MwBxLTG0c5B1aJTJNovaqR74v+y/H6yTxQt/yqOxr1c=</td>\n",
       "      <td>1</td>\n",
       "      <td>0</td>\n",
       "      <td>NaN</td>\n",
       "      <td>4</td>\n",
       "      <td>20151020</td>\n",
       "    </tr>\n",
       "    <tr>\n",
       "      <th>6769464</th>\n",
       "      <td>2U0grRyv2DB3Pw3crMBhBfsWWq6VkGcK1IGVqmDmK0w=</td>\n",
       "      <td>5</td>\n",
       "      <td>23</td>\n",
       "      <td>female</td>\n",
       "      <td>4</td>\n",
       "      <td>20151020</td>\n",
       "    </tr>\n",
       "    <tr>\n",
       "      <th>6769465</th>\n",
       "      <td>OL6joplCKThE1pZD+AQDnj3kZiC45qzpndlDIRSyPQI=</td>\n",
       "      <td>1</td>\n",
       "      <td>0</td>\n",
       "      <td>NaN</td>\n",
       "      <td>7</td>\n",
       "      <td>20151020</td>\n",
       "    </tr>\n",
       "    <tr>\n",
       "      <th>6769466</th>\n",
       "      <td>O11rAa17ANM6DGMMVb9L2vwCQFv/S6SR3SDB1nGuOAc=</td>\n",
       "      <td>1</td>\n",
       "      <td>0</td>\n",
       "      <td>NaN</td>\n",
       "      <td>7</td>\n",
       "      <td>20151020</td>\n",
       "    </tr>\n",
       "    <tr>\n",
       "      <th>6769467</th>\n",
       "      <td>tyoRqQ72Y2oCcqvdaIxG8T0Hs9DZvuuM8IeTwhxtdBQ=</td>\n",
       "      <td>6</td>\n",
       "      <td>26</td>\n",
       "      <td>female</td>\n",
       "      <td>7</td>\n",
       "      <td>20151020</td>\n",
       "    </tr>\n",
       "    <tr>\n",
       "      <th>6769468</th>\n",
       "      <td>VSGkb3hyBRUtb/b1MQUZbvOkktS3vKLnhMHW0CF8eyU=</td>\n",
       "      <td>1</td>\n",
       "      <td>0</td>\n",
       "      <td>NaN</td>\n",
       "      <td>7</td>\n",
       "      <td>20151020</td>\n",
       "    </tr>\n",
       "    <tr>\n",
       "      <th>6769469</th>\n",
       "      <td>nWjH7glPkZ7jOVaCRwwjlpmp0T1hSWdv8hMJxiWCwKc=</td>\n",
       "      <td>1</td>\n",
       "      <td>0</td>\n",
       "      <td>NaN</td>\n",
       "      <td>7</td>\n",
       "      <td>20151020</td>\n",
       "    </tr>\n",
       "    <tr>\n",
       "      <th>6769470</th>\n",
       "      <td>GH+b5+1tlv7ZZXsA8upBzVXMTLyffKcsF7WoU8b5rOI=</td>\n",
       "      <td>15</td>\n",
       "      <td>26</td>\n",
       "      <td>female</td>\n",
       "      <td>4</td>\n",
       "      <td>20151020</td>\n",
       "    </tr>\n",
       "    <tr>\n",
       "      <th>6769471</th>\n",
       "      <td>XVlwT3fdCFGKqerEKBzUIjK+jzI6jzSke4cDMVhYyjE=</td>\n",
       "      <td>1</td>\n",
       "      <td>0</td>\n",
       "      <td>NaN</td>\n",
       "      <td>4</td>\n",
       "      <td>20151020</td>\n",
       "    </tr>\n",
       "    <tr>\n",
       "      <th>6769472</th>\n",
       "      <td>isBt+JlgvZRNy6lxVr5vvuJ4lD00ofTaKyJ+uRnGcPg=</td>\n",
       "      <td>1</td>\n",
       "      <td>0</td>\n",
       "      <td>NaN</td>\n",
       "      <td>4</td>\n",
       "      <td>20151021</td>\n",
       "    </tr>\n",
       "  </tbody>\n",
       "</table>\n",
       "<p>6769473 rows × 6 columns</p>\n",
       "</div>"
      ],
      "text/plain": [
       "                                                 msno  city  bd  gender  \\\n",
       "0        Rb9UwLQTrxzBVwCB6+bCcSQWZ9JiNLC9dXtM1oEsZA8=     1   0     NaN   \n",
       "1        +tJonkh+O1CA796Fm5X60UMOtB6POHAwPjbTRVl/EuU=     1   0     NaN   \n",
       "2        cV358ssn7a0f7jZOwGNWS07wCKVqxyiImJUX6xcIwKw=     1   0     NaN   \n",
       "3        9bzDeJP6sQodK73K5CBlJ6fgIQzPeLnRl0p5B77XP+g=     1   0     NaN   \n",
       "4        WFLY3s7z4EZsieHCt63XrsdtfTEmJ+2PnnKLH5GY4Tk=     6  32  female   \n",
       "5        yLkV2gbZ4GLFwqTOXLVHz0VGrMYcgBGgKZ3kj9RiYu8=     4  30    male   \n",
       "6        jNCGK78YkTyId3H3wFavcBLDmz7pfqlvCfUKf4G1Lw4=     1   0     NaN   \n",
       "7        WH5Jq4mgtfUFXh2yz+HrcTXKS4Oess4k4W3qKolAeb0=     5  34    male   \n",
       "8        tKmbR4X5VXjHmxERrckawEMZ4znVy1lAQIR1vV5rdNk=     5  19    male   \n",
       "9        I0yFvqMoNkM8ZNHb617e1RBzIS/YRKemHO7Wj13EtA0=    13  63    male   \n",
       "10       OoDwiKZM+ZGr9P3fRivavgOtglTEaNfWJO4KaJcTTts=     1   0     NaN   \n",
       "11       dCvvBHlaOAqgkAcv36IZ9twaCyH0Z9om0wEiKn13B3o=    22  18    male   \n",
       "12       6bra2AiVV8SGlm7R6mp97Ot5jU9FBH2/8JaRk0iaKco=     4  34  female   \n",
       "13       4De1jAxNRABoyRBDZ82U0yEmzYkqeOugRGVNIf92Xb8=     4  28  female   \n",
       "14       iOzdu4IHbJxhB5CPpiQsZcGdptCm7OLwWm1Ci6oHLSE=    12  29  female   \n",
       "15       hZia/3iyvtThD1kv6ozRjRj8T0CAz0+zUFxs3e27wo8=     1   0     NaN   \n",
       "16       QlDflP89J5KChheo2sbtH++SSDY/hUDj54gkgdfE76U=     1   0     NaN   \n",
       "17       fOpj0ApSXk1NVODvC5db5Tvm/1G6exXxgTiCwTqvQn0=    13  31  female   \n",
       "18       GsPgdrXoV6688/0RFAwjKxQUpBB28JxK/Nx45kEpH60=     1   0     NaN   \n",
       "19       QHHKGOY5yLrGdR8WYb0JtdJTP36Ii1QP3QTXxjEpGLk=     5  19  female   \n",
       "20       SpiCVwYrNY2XIpPpZkHHq4LDTfYyPNxBx7e+klc19H4=    15  22  female   \n",
       "21       +N2Na8js4BYLhkDXYD94o/5Tn5j1yi9u/+6F8an1MUs=     4  23    male   \n",
       "22       F6F2FJSHqQ/TLf7fQHJe1nbonEZmrCHtzG87U8VD9rE=    11  22  female   \n",
       "23       FotY8kXSC6tIyCuVn0NoaXjo0Hd854wuoNMWuwHaLIA=     5  29    male   \n",
       "24       glvtik6LgKzz/VHI8f7dAAHW4iqU8azER8mEsImDe78=     9  21    male   \n",
       "25       x+j0IrKnXLIqZawwAtwldq2by7TLMKyohbtSeT5gtDg=     9  22    male   \n",
       "26       7XXoaLnR+58yBjV/dtpvsvnkbadWYxO3+KkLgaaJ0VM=     5  28    male   \n",
       "27       GqYHRxlZChiZvB1uzR410wcQzuxqZNZci4AzOTzkAao=     5  27    male   \n",
       "28       vqz848bjeylg9nGoax8X4qQX2IX8qPwEq+4vbOpgy4c=    13  47  female   \n",
       "29       ZXtW2HuuVK4aPiO10RhBWT1PmLV+bKqnFlT5bL6YhoQ=     4   0     NaN   \n",
       "...                                               ...   ...  ..     ...   \n",
       "6769443  dz8iQV2eZCBZo1DjKL7OifsiyzGf3xyMaCFDOJHVeyc=     1   0     NaN   \n",
       "6769444  hc/t3OlBHhN/99/usrWrjGJTlf9wbAcOeHMBJ41QTN0=     1   0     NaN   \n",
       "6769445  6GUYpq8GC07duotA9Ww9EXCuhPaLAXBgKGSeR7jkWKo=     1   0     NaN   \n",
       "6769446  kB6WjrrdzSl0GMASY6BagCSV72TcwasA4W6vY8KmV5Q=     1   0     NaN   \n",
       "6769447  yBIr7TnCh8W2zZ+tmsoQ/4FO1TBELCLiT3iR+Xoq5/c=     1   0     NaN   \n",
       "6769448  LfE8yToqqHz5HoIglTJSrNA3jUNGSnWZEgS/+O87rsk=    13  22    male   \n",
       "6769449  B3Ej5OgW2lauvRkxy0lLVGYhcRoyxANUURIm/EbfNX8=     1   0     NaN   \n",
       "6769450  8KEWLOUggktIjiT3bKpgcACB3WbkoP74WabNYz2EVE0=     1   0     NaN   \n",
       "6769451  zEbFxXsp+eaHF8tSEASFSJfTjaes+zNYLmTlpA3HHUU=     1   0     NaN   \n",
       "6769452  nekPR84bVpE4HSgxlW4H3+SIxLJWZCSctP0VEFrT1Pk=    15  19    male   \n",
       "6769453  WDGMzy3arZrbDZWAd/BaWTKmILEF9N2zHRN2gfciPKY=     1   0     NaN   \n",
       "6769454  wv7xKoYMhXk+UT6x6GDrXC3aJ7O5RPWXZhSkS9TfLl0=     6  32    male   \n",
       "6769455  IwDZCuhB0UP7wrBwuqE1r1jQIA0yFSTqUGlGJnM+hMI=     1  52    male   \n",
       "6769456  O17RLjJp7AVhS1G1TJ8LjZHoIeoeGi1jwlV3kIth47Q=     1   0     NaN   \n",
       "6769457  YOqjbC7RQVk/tLpavVvqSFCoZJ7iUjeG6uTvc9JW9nA=     1   0     NaN   \n",
       "6769458  lN70dnrI/8KjuUfSZPQ4mVCHJXFwpfaXsmnrAWvRB90=     1   0     NaN   \n",
       "6769459  swUHFmY7ArwcqVEA8UsukGriyE4iGHIukuaG69UGajU=     1   0     NaN   \n",
       "6769460  PzjxWRuTQAJ3riOHWT6nBTiPrHW/JvUG3rrSfTMYIpY=     1   0     NaN   \n",
       "6769461  P8weYpM9bCHGGvoUFAhJRRDEaehliI7m0eq51ahKxK4=     1   0     NaN   \n",
       "6769462  y0rwiAeU5goDatsiUDulPdiJpohZ15hxUAkSJHccnvY=     8  32  female   \n",
       "6769463  MwBxLTG0c5B1aJTJNovaqR74v+y/H6yTxQt/yqOxr1c=     1   0     NaN   \n",
       "6769464  2U0grRyv2DB3Pw3crMBhBfsWWq6VkGcK1IGVqmDmK0w=     5  23  female   \n",
       "6769465  OL6joplCKThE1pZD+AQDnj3kZiC45qzpndlDIRSyPQI=     1   0     NaN   \n",
       "6769466  O11rAa17ANM6DGMMVb9L2vwCQFv/S6SR3SDB1nGuOAc=     1   0     NaN   \n",
       "6769467  tyoRqQ72Y2oCcqvdaIxG8T0Hs9DZvuuM8IeTwhxtdBQ=     6  26  female   \n",
       "6769468  VSGkb3hyBRUtb/b1MQUZbvOkktS3vKLnhMHW0CF8eyU=     1   0     NaN   \n",
       "6769469  nWjH7glPkZ7jOVaCRwwjlpmp0T1hSWdv8hMJxiWCwKc=     1   0     NaN   \n",
       "6769470  GH+b5+1tlv7ZZXsA8upBzVXMTLyffKcsF7WoU8b5rOI=    15  26  female   \n",
       "6769471  XVlwT3fdCFGKqerEKBzUIjK+jzI6jzSke4cDMVhYyjE=     1   0     NaN   \n",
       "6769472  isBt+JlgvZRNy6lxVr5vvuJ4lD00ofTaKyJ+uRnGcPg=     1   0     NaN   \n",
       "\n",
       "         registered_via registration_init_time  \n",
       "0                    11               20110911  \n",
       "1                     7               20110914  \n",
       "2                    11               20110915  \n",
       "3                    11               20110915  \n",
       "4                     9               20110915  \n",
       "5                     9               20110916  \n",
       "6                     7               20110916  \n",
       "7                     9               20110916  \n",
       "8                     9               20110917  \n",
       "9                     9               20110918  \n",
       "10                    7               20110918  \n",
       "11                    9               20110919  \n",
       "12                    9               20110919  \n",
       "13                    9               20110920  \n",
       "14                    9               20110922  \n",
       "15                    9               20110922  \n",
       "16                    9               20110922  \n",
       "17                    7               20110923  \n",
       "18                    7               20110924  \n",
       "19                    9               20110925  \n",
       "20                    9               20110925  \n",
       "21                    9               20110925  \n",
       "22                    9               20110925  \n",
       "23                    9               20110926  \n",
       "24                    9               20110926  \n",
       "25                    9               20110926  \n",
       "26                    7               20110927  \n",
       "27                    9               20110927  \n",
       "28                    7               20110928  \n",
       "29                    9               20110928  \n",
       "...                 ...                    ...  \n",
       "6769443               7               20151020  \n",
       "6769444               4               20151020  \n",
       "6769445               4               20151020  \n",
       "6769446               4               20151020  \n",
       "6769447               4               20151020  \n",
       "6769448               4               20151020  \n",
       "6769449               4               20151020  \n",
       "6769450               4               20151020  \n",
       "6769451               4               20151020  \n",
       "6769452               4               20151020  \n",
       "6769453               4               20151020  \n",
       "6769454               4               20151020  \n",
       "6769455               4               20151020  \n",
       "6769456               4               20151020  \n",
       "6769457               4               20151020  \n",
       "6769458               9               20151020  \n",
       "6769459               4               20151020  \n",
       "6769460               4               20151020  \n",
       "6769461               4               20151020  \n",
       "6769462               9               20151020  \n",
       "6769463               4               20151020  \n",
       "6769464               4               20151020  \n",
       "6769465               7               20151020  \n",
       "6769466               7               20151020  \n",
       "6769467               7               20151020  \n",
       "6769468               7               20151020  \n",
       "6769469               7               20151020  \n",
       "6769470               4               20151020  \n",
       "6769471               4               20151020  \n",
       "6769472               4               20151021  \n",
       "\n",
       "[6769473 rows x 6 columns]"
      ]
     },
     "execution_count": 5,
     "metadata": {},
     "output_type": "execute_result"
    }
   ],
   "source": [
    "df = pd.read_csv(\"./rowdata/members_v3.csv/members_v3.csv\", \n",
    "    dtype={\"msno\":str, \"registration_init_time\":str})\n",
    "df"
   ]
  },
  {
   "cell_type": "code",
   "execution_count": 6,
   "metadata": {},
   "outputs": [
    {
     "data": {
      "text/html": [
       "<div>\n",
       "<style>\n",
       "    .dataframe thead tr:only-child th {\n",
       "        text-align: right;\n",
       "    }\n",
       "\n",
       "    .dataframe thead th {\n",
       "        text-align: left;\n",
       "    }\n",
       "\n",
       "    .dataframe tbody tr th {\n",
       "        vertical-align: top;\n",
       "    }\n",
       "</style>\n",
       "<table border=\"1\" class=\"dataframe\">\n",
       "  <thead>\n",
       "    <tr style=\"text-align: right;\">\n",
       "      <th></th>\n",
       "      <th>msno</th>\n",
       "      <th>city</th>\n",
       "      <th>bd</th>\n",
       "      <th>gender</th>\n",
       "      <th>registered_via</th>\n",
       "      <th>registration_init_time</th>\n",
       "    </tr>\n",
       "  </thead>\n",
       "  <tbody>\n",
       "    <tr>\n",
       "      <th>0</th>\n",
       "      <td>Rb9UwLQTrxzBVwCB6+bCcSQWZ9JiNLC9dXtM1oEsZA8=</td>\n",
       "      <td>1</td>\n",
       "      <td>0</td>\n",
       "      <td>NaN</td>\n",
       "      <td>11</td>\n",
       "      <td>20110911</td>\n",
       "    </tr>\n",
       "    <tr>\n",
       "      <th>1</th>\n",
       "      <td>+tJonkh+O1CA796Fm5X60UMOtB6POHAwPjbTRVl/EuU=</td>\n",
       "      <td>1</td>\n",
       "      <td>0</td>\n",
       "      <td>NaN</td>\n",
       "      <td>7</td>\n",
       "      <td>20110914</td>\n",
       "    </tr>\n",
       "    <tr>\n",
       "      <th>2</th>\n",
       "      <td>cV358ssn7a0f7jZOwGNWS07wCKVqxyiImJUX6xcIwKw=</td>\n",
       "      <td>1</td>\n",
       "      <td>0</td>\n",
       "      <td>NaN</td>\n",
       "      <td>11</td>\n",
       "      <td>20110915</td>\n",
       "    </tr>\n",
       "    <tr>\n",
       "      <th>3</th>\n",
       "      <td>9bzDeJP6sQodK73K5CBlJ6fgIQzPeLnRl0p5B77XP+g=</td>\n",
       "      <td>1</td>\n",
       "      <td>0</td>\n",
       "      <td>NaN</td>\n",
       "      <td>11</td>\n",
       "      <td>20110915</td>\n",
       "    </tr>\n",
       "    <tr>\n",
       "      <th>4</th>\n",
       "      <td>WFLY3s7z4EZsieHCt63XrsdtfTEmJ+2PnnKLH5GY4Tk=</td>\n",
       "      <td>6</td>\n",
       "      <td>32</td>\n",
       "      <td>female</td>\n",
       "      <td>9</td>\n",
       "      <td>20110915</td>\n",
       "    </tr>\n",
       "  </tbody>\n",
       "</table>\n",
       "</div>"
      ],
      "text/plain": [
       "                                           msno  city  bd  gender  \\\n",
       "0  Rb9UwLQTrxzBVwCB6+bCcSQWZ9JiNLC9dXtM1oEsZA8=     1   0     NaN   \n",
       "1  +tJonkh+O1CA796Fm5X60UMOtB6POHAwPjbTRVl/EuU=     1   0     NaN   \n",
       "2  cV358ssn7a0f7jZOwGNWS07wCKVqxyiImJUX6xcIwKw=     1   0     NaN   \n",
       "3  9bzDeJP6sQodK73K5CBlJ6fgIQzPeLnRl0p5B77XP+g=     1   0     NaN   \n",
       "4  WFLY3s7z4EZsieHCt63XrsdtfTEmJ+2PnnKLH5GY4Tk=     6  32  female   \n",
       "\n",
       "   registered_via registration_init_time  \n",
       "0              11               20110911  \n",
       "1               7               20110914  \n",
       "2              11               20110915  \n",
       "3              11               20110915  \n",
       "4               9               20110915  "
      ]
     },
     "execution_count": 6,
     "metadata": {},
     "output_type": "execute_result"
    }
   ],
   "source": [
    "df.head()"
   ]
  },
  {
   "cell_type": "code",
   "execution_count": 7,
   "metadata": {},
   "outputs": [
    {
     "data": {
      "text/plain": [
       "0"
      ]
     },
     "execution_count": 7,
     "metadata": {},
     "output_type": "execute_result"
    }
   ],
   "source": [
    "df.city.isnull().sum()"
   ]
  },
  {
   "cell_type": "code",
   "execution_count": 8,
   "metadata": {},
   "outputs": [
    {
     "name": "stdout",
     "output_type": "stream",
     "text": [
      "<class 'pandas.core.frame.DataFrame'>\n",
      "RangeIndex: 6769473 entries, 0 to 6769472\n",
      "Data columns (total 6 columns):\n",
      "msno                      object\n",
      "city                      int64\n",
      "bd                        int64\n",
      "gender                    object\n",
      "registered_via            int64\n",
      "registration_init_time    object\n",
      "dtypes: int64(3), object(3)\n",
      "memory usage: 309.9+ MB\n"
     ]
    }
   ],
   "source": [
    "df.info()"
   ]
  },
  {
   "cell_type": "code",
   "execution_count": 9,
   "metadata": {
    "collapsed": true
   },
   "outputs": [],
   "source": [
    " df['registration_init_time'] = df['registration_init_time'].map(lambda x : datetime.strptime(x, '%Y%m%d'))"
   ]
  },
  {
   "cell_type": "code",
   "execution_count": 10,
   "metadata": {},
   "outputs": [
    {
     "data": {
      "text/plain": [
       "pandas._libs.tslib.Timestamp"
      ]
     },
     "execution_count": 10,
     "metadata": {},
     "output_type": "execute_result"
    }
   ],
   "source": [
    "type(df['registration_init_time'][0])"
   ]
  },
  {
   "cell_type": "code",
   "execution_count": 11,
   "metadata": {},
   "outputs": [
    {
     "data": {
      "text/html": [
       "<div>\n",
       "<style>\n",
       "    .dataframe thead tr:only-child th {\n",
       "        text-align: right;\n",
       "    }\n",
       "\n",
       "    .dataframe thead th {\n",
       "        text-align: left;\n",
       "    }\n",
       "\n",
       "    .dataframe tbody tr th {\n",
       "        vertical-align: top;\n",
       "    }\n",
       "</style>\n",
       "<table border=\"1\" class=\"dataframe\">\n",
       "  <thead>\n",
       "    <tr style=\"text-align: right;\">\n",
       "      <th></th>\n",
       "      <th>city</th>\n",
       "      <th>bd</th>\n",
       "      <th>registered_via</th>\n",
       "    </tr>\n",
       "  </thead>\n",
       "  <tbody>\n",
       "    <tr>\n",
       "      <th>count</th>\n",
       "      <td>6.769473e+06</td>\n",
       "      <td>6.769473e+06</td>\n",
       "      <td>6.769473e+06</td>\n",
       "    </tr>\n",
       "    <tr>\n",
       "      <th>mean</th>\n",
       "      <td>3.847358e+00</td>\n",
       "      <td>9.795794e+00</td>\n",
       "      <td>5.253069e+00</td>\n",
       "    </tr>\n",
       "    <tr>\n",
       "      <th>std</th>\n",
       "      <td>5.478359e+00</td>\n",
       "      <td>1.792590e+01</td>\n",
       "      <td>2.361398e+00</td>\n",
       "    </tr>\n",
       "    <tr>\n",
       "      <th>min</th>\n",
       "      <td>1.000000e+00</td>\n",
       "      <td>-7.168000e+03</td>\n",
       "      <td>-1.000000e+00</td>\n",
       "    </tr>\n",
       "    <tr>\n",
       "      <th>25%</th>\n",
       "      <td>1.000000e+00</td>\n",
       "      <td>0.000000e+00</td>\n",
       "      <td>4.000000e+00</td>\n",
       "    </tr>\n",
       "    <tr>\n",
       "      <th>50%</th>\n",
       "      <td>1.000000e+00</td>\n",
       "      <td>0.000000e+00</td>\n",
       "      <td>4.000000e+00</td>\n",
       "    </tr>\n",
       "    <tr>\n",
       "      <th>75%</th>\n",
       "      <td>4.000000e+00</td>\n",
       "      <td>2.100000e+01</td>\n",
       "      <td>7.000000e+00</td>\n",
       "    </tr>\n",
       "    <tr>\n",
       "      <th>max</th>\n",
       "      <td>2.200000e+01</td>\n",
       "      <td>2.016000e+03</td>\n",
       "      <td>1.900000e+01</td>\n",
       "    </tr>\n",
       "  </tbody>\n",
       "</table>\n",
       "</div>"
      ],
      "text/plain": [
       "               city            bd  registered_via\n",
       "count  6.769473e+06  6.769473e+06    6.769473e+06\n",
       "mean   3.847358e+00  9.795794e+00    5.253069e+00\n",
       "std    5.478359e+00  1.792590e+01    2.361398e+00\n",
       "min    1.000000e+00 -7.168000e+03   -1.000000e+00\n",
       "25%    1.000000e+00  0.000000e+00    4.000000e+00\n",
       "50%    1.000000e+00  0.000000e+00    4.000000e+00\n",
       "75%    4.000000e+00  2.100000e+01    7.000000e+00\n",
       "max    2.200000e+01  2.016000e+03    1.900000e+01"
      ]
     },
     "execution_count": 11,
     "metadata": {},
     "output_type": "execute_result"
    }
   ],
   "source": [
    "df.describe()"
   ]
  },
  {
   "cell_type": "code",
   "execution_count": 12,
   "metadata": {},
   "outputs": [
    {
     "data": {
      "text/plain": [
       "1     4804326\n",
       "5      385069\n",
       "13     320978\n",
       "4      246848\n",
       "22     210407\n",
       "15     190213\n",
       "6      135200\n",
       "14      89940\n",
       "12      66843\n",
       "9       47639\n",
       "11      47489\n",
       "8       45975\n",
       "18      38039\n",
       "10      32482\n",
       "21      30837\n",
       "17      27772\n",
       "3       27282\n",
       "7       11610\n",
       "16       5092\n",
       "20       4233\n",
       "19       1199\n",
       "Name: city, dtype: int64"
      ]
     },
     "execution_count": 12,
     "metadata": {},
     "output_type": "execute_result"
    }
   ],
   "source": [
    "df.city.value_counts()"
   ]
  },
  {
   "cell_type": "code",
   "execution_count": 13,
   "metadata": {},
   "outputs": [
    {
     "data": {
      "text/plain": [
       "21"
      ]
     },
     "execution_count": 13,
     "metadata": {},
     "output_type": "execute_result"
    }
   ],
   "source": [
    "df.city.nunique()"
   ]
  },
  {
   "cell_type": "code",
   "execution_count": 14,
   "metadata": {},
   "outputs": [
    {
     "data": {
      "text/plain": [
       "array([    0,    32,    30,    34,    19,    63,    18,    28,    29,\n",
       "          31,    22,    23,    21,    27,    47,    38,    36,    26,\n",
       "          58,    43,    33,    39,    24,    20,    25,    41,    17,\n",
       "          54,    40,    45,    52,    56,    50,    35,    42,    49,\n",
       "          44,    48,    57,    37,    51,    60,    46,    59,    53,\n",
       "          16,    14,   104,    15,    64,    91,    69,    62,    55,\n",
       "          61,    65,    75,   106,   108,    99,    68,    82,    95,\n",
       "          90,    67,    96,    77,    66,   -39,     6,    76,   109,\n",
       "          72,    13,    80,    93,     7,  1028,    94,   117,    70,\n",
       "           4,   793,   105,   923,   107,   112,    73,    87,    88,\n",
       "          86,    71,    81,    97,    85,    79,   102,   101,    78,\n",
       "         111,     1,    89,    74,    84,   110,    98,  -518,   -51,\n",
       "          12,    83,  1037,   103,   116,   100,    10,  1025,     5,\n",
       "         220,    92,     9,   115,     8,  1039,  1052,  -506,   938,\n",
       "          11,  -510,   -36,   240,  1031,   -43,   584,   944,  -958,\n",
       "         137,   -48,     3,  1032,  -515,   217,     2,  1820,  -504,\n",
       "        -519,   265,   143,   119,   151,   -47,   689,   183,   -42,\n",
       "         959,   946,   -49,  -514,   122,   943,  -523,  -517,  -482,\n",
       "        -520,   907,   936,  1018,  1062,  1030,  1043,  1017,   951,\n",
       "         126,   141,   113,   930,  -508,  1034,  -974,  1819,   806,\n",
       "        1033,   144,  1026,   -37,  -500,  -509,  1053,   942,   778,\n",
       "        -516,  1046,  1008,   -46,  1011,   950,   155,   114,   125,\n",
       "         -12,  1048,   124,  1040,  1036,   138,   153,   948,   827,\n",
       "         -52, -7168,   826,  -511,   -45,  1041,   820,  1821,   118,\n",
       "        -540,  -513,  1061,   743,  1937,  1038,  1045,   228,  1051,\n",
       "        1049,   932,   357,   244,   164,  1029,   -44,   783,   129,\n",
       "         -34,   -23,   128,  -521,   922,   761,   328,   131,   823,\n",
       "         386,  -526,   -50,   319,   994,   132,   822,   160,   824,\n",
       "         939,   947,   136,  2011,  1309,   685,   941,   937,  1213,\n",
       "         340,    -5,   931,  1954,   933,   140,   -14,   -33,   -22,\n",
       "        -512,   232, -6998,    -9,  1022,   120,   -32,   955,   332,\n",
       "         -38,   519,   945,  -522,  -503,   940,   906,   935,   148,\n",
       "         123,   139,   926,   949,   925,  2009,   322,   462,  1089,\n",
       "        1009,   121,   163,  1058,  1111,   -41,  1050,   327,   197,\n",
       "         -35,   -40,   929,   964,  1035,   825,  1019,   924,    -7,\n",
       "        -501,  1958,  1042,   323,   837,  -493,   -31, -6807,   919,\n",
       "         320,  -498,   786,   334,  -525,  -496,   321,  -502,   237,\n",
       "         231,  1021,   821,  1970,   920,   819,  -527,   928,  -505,\n",
       "          -8,  -497,  -176,   230,   934,  1056,   133, -1970,   649,\n",
       "        -488,   -19,   810,  1421,  2014,   243, -2828,  1013,  1044,\n",
       "        1501,  1946,  2016,   222, -6445,   167,   961,   -10,  -484,\n",
       "        1968,  -489,  1064,  1949,  -507,  -956, -5978,  -951,   130,\n",
       "        -529,   -30,  -178,   353,   954,  -524, -3152,   573], dtype=int64)"
      ]
     },
     "execution_count": 14,
     "metadata": {},
     "output_type": "execute_result"
    }
   ],
   "source": [
    "df.bd.unique()"
   ]
  },
  {
   "cell_type": "code",
   "execution_count": 15,
   "metadata": {},
   "outputs": [
    {
     "data": {
      "text/plain": [
       " 4     2793213\n",
       " 3     1643208\n",
       " 9     1482863\n",
       " 7      805895\n",
       " 11      25047\n",
       " 13       5455\n",
       " 8        3982\n",
       " 5        3115\n",
       " 17       1494\n",
       " 2        1452\n",
       " 6        1213\n",
       " 19        974\n",
       " 16        888\n",
       " 14        615\n",
       " 1          43\n",
       " 10         10\n",
       " 18          5\n",
       "-1           1\n",
       "Name: registered_via, dtype: int64"
      ]
     },
     "execution_count": 15,
     "metadata": {},
     "output_type": "execute_result"
    }
   ],
   "source": [
    "df.registered_via.value_counts()"
   ]
  },
  {
   "cell_type": "code",
   "execution_count": 16,
   "metadata": {},
   "outputs": [
    {
     "data": {
      "text/plain": [
       "count                  805895\n",
       "unique                   2705\n",
       "top       2016-01-16 00:00:00\n",
       "freq                     1831\n",
       "first     2006-10-28 00:00:00\n",
       "last      2017-04-29 00:00:00\n",
       "Name: registration_init_time, dtype: object"
      ]
     },
     "execution_count": 16,
     "metadata": {},
     "output_type": "execute_result"
    }
   ],
   "source": [
    "df[df.registered_via==7].registration_init_time.describe()"
   ]
  },
  {
   "cell_type": "code",
   "execution_count": 17,
   "metadata": {},
   "outputs": [
    {
     "data": {
      "text/plain": [
       "msno                            0\n",
       "city                            0\n",
       "bd                              0\n",
       "gender                    4429505\n",
       "registered_via                  0\n",
       "registration_init_time          0\n",
       "dtype: int64"
      ]
     },
     "execution_count": 17,
     "metadata": {},
     "output_type": "execute_result"
    }
   ],
   "source": [
    "df.isnull().sum()"
   ]
  },
  {
   "cell_type": "code",
   "execution_count": 18,
   "metadata": {},
   "outputs": [
    {
     "data": {
      "text/plain": [
       "Index(['msno', 'city', 'bd', 'gender', 'registered_via',\n",
       "       'registration_init_time'],\n",
       "      dtype='object')"
      ]
     },
     "execution_count": 18,
     "metadata": {},
     "output_type": "execute_result"
    }
   ],
   "source": [
    "df.columns"
   ]
  },
  {
   "cell_type": "code",
   "execution_count": 19,
   "metadata": {},
   "outputs": [
    {
     "data": {
      "text/plain": [
       "True"
      ]
     },
     "execution_count": 19,
     "metadata": {},
     "output_type": "execute_result"
    }
   ],
   "source": [
    "df.msno.is_unique"
   ]
  },
  {
   "cell_type": "code",
   "execution_count": 20,
   "metadata": {},
   "outputs": [
    {
     "data": {
      "text/plain": [
       "male      1195355\n",
       "female    1144613\n",
       "Name: gender, dtype: int64"
      ]
     },
     "execution_count": 20,
     "metadata": {},
     "output_type": "execute_result"
    }
   ],
   "source": [
    "df.gender.value_counts()"
   ]
  },
  {
   "cell_type": "code",
   "execution_count": 21,
   "metadata": {},
   "outputs": [
    {
     "data": {
      "text/plain": [
       "count                 6769473\n",
       "unique                   4782\n",
       "top       2015-10-09 00:00:00\n",
       "freq                    12413\n",
       "first     2004-03-26 00:00:00\n",
       "last      2017-04-29 00:00:00\n",
       "Name: registration_init_time, dtype: object"
      ]
     },
     "execution_count": 21,
     "metadata": {},
     "output_type": "execute_result"
    }
   ],
   "source": [
    "df.registration_init_time.describe()"
   ]
  },
  {
   "cell_type": "markdown",
   "metadata": {},
   "source": [
    "## Train Data"
   ]
  },
  {
   "cell_type": "code",
   "execution_count": 22,
   "metadata": {},
   "outputs": [
    {
     "data": {
      "text/html": [
       "<div>\n",
       "<style>\n",
       "    .dataframe thead tr:only-child th {\n",
       "        text-align: right;\n",
       "    }\n",
       "\n",
       "    .dataframe thead th {\n",
       "        text-align: left;\n",
       "    }\n",
       "\n",
       "    .dataframe tbody tr th {\n",
       "        vertical-align: top;\n",
       "    }\n",
       "</style>\n",
       "<table border=\"1\" class=\"dataframe\">\n",
       "  <thead>\n",
       "    <tr style=\"text-align: right;\">\n",
       "      <th></th>\n",
       "      <th>msno</th>\n",
       "      <th>is_churn</th>\n",
       "    </tr>\n",
       "  </thead>\n",
       "  <tbody>\n",
       "    <tr>\n",
       "      <th>0</th>\n",
       "      <td>waLDQMmcOu2jLDaV1ddDkgCrB/jl6sD66Xzs0Vqax1Y=</td>\n",
       "      <td>1</td>\n",
       "    </tr>\n",
       "    <tr>\n",
       "      <th>1</th>\n",
       "      <td>QA7uiXy8vIbUSPOkCf9RwQ3FsT8jVq2OxDr8zqa7bRQ=</td>\n",
       "      <td>1</td>\n",
       "    </tr>\n",
       "    <tr>\n",
       "      <th>2</th>\n",
       "      <td>fGwBva6hikQmTJzrbz/2Ezjm5Cth5jZUNvXigKK2AFA=</td>\n",
       "      <td>1</td>\n",
       "    </tr>\n",
       "    <tr>\n",
       "      <th>3</th>\n",
       "      <td>mT5V8rEpa+8wuqi6x0DoVd3H5icMKkE9Prt49UlmK+4=</td>\n",
       "      <td>1</td>\n",
       "    </tr>\n",
       "    <tr>\n",
       "      <th>4</th>\n",
       "      <td>XaPhtGLk/5UvvOYHcONTwsnH97P4eGECeq+BARGItRw=</td>\n",
       "      <td>1</td>\n",
       "    </tr>\n",
       "  </tbody>\n",
       "</table>\n",
       "</div>"
      ],
      "text/plain": [
       "                                           msno  is_churn\n",
       "0  waLDQMmcOu2jLDaV1ddDkgCrB/jl6sD66Xzs0Vqax1Y=         1\n",
       "1  QA7uiXy8vIbUSPOkCf9RwQ3FsT8jVq2OxDr8zqa7bRQ=         1\n",
       "2  fGwBva6hikQmTJzrbz/2Ezjm5Cth5jZUNvXigKK2AFA=         1\n",
       "3  mT5V8rEpa+8wuqi6x0DoVd3H5icMKkE9Prt49UlmK+4=         1\n",
       "4  XaPhtGLk/5UvvOYHcONTwsnH97P4eGECeq+BARGItRw=         1"
      ]
     },
     "execution_count": 22,
     "metadata": {},
     "output_type": "execute_result"
    }
   ],
   "source": [
    "traindf = pd.read_csv(\"./rowdata/train.csv/train.csv\")\n",
    "traindf.head()"
   ]
  },
  {
   "cell_type": "code",
   "execution_count": 23,
   "metadata": {},
   "outputs": [
    {
     "name": "stdout",
     "output_type": "stream",
     "text": [
      "<class 'pandas.core.frame.DataFrame'>\n",
      "RangeIndex: 992931 entries, 0 to 992930\n",
      "Data columns (total 2 columns):\n",
      "msno        992931 non-null object\n",
      "is_churn    992931 non-null int64\n",
      "dtypes: int64(1), object(1)\n",
      "memory usage: 15.2+ MB\n"
     ]
    }
   ],
   "source": [
    "traindf.info()"
   ]
  },
  {
   "cell_type": "code",
   "execution_count": 24,
   "metadata": {},
   "outputs": [
    {
     "data": {
      "text/html": [
       "<div>\n",
       "<style>\n",
       "    .dataframe thead tr:only-child th {\n",
       "        text-align: right;\n",
       "    }\n",
       "\n",
       "    .dataframe thead th {\n",
       "        text-align: left;\n",
       "    }\n",
       "\n",
       "    .dataframe tbody tr th {\n",
       "        vertical-align: top;\n",
       "    }\n",
       "</style>\n",
       "<table border=\"1\" class=\"dataframe\">\n",
       "  <thead>\n",
       "    <tr style=\"text-align: right;\">\n",
       "      <th></th>\n",
       "      <th>msno</th>\n",
       "      <th>is_churn</th>\n",
       "    </tr>\n",
       "  </thead>\n",
       "  <tbody>\n",
       "    <tr>\n",
       "      <th>0</th>\n",
       "      <td>ugx0CjOMzazClkFzU2xasmDZaoIqOUAZPsH1q0teWCg=</td>\n",
       "      <td>1</td>\n",
       "    </tr>\n",
       "    <tr>\n",
       "      <th>1</th>\n",
       "      <td>f/NmvEzHfhINFEYZTR05prUdr+E+3+oewvweYz9cCQE=</td>\n",
       "      <td>1</td>\n",
       "    </tr>\n",
       "    <tr>\n",
       "      <th>2</th>\n",
       "      <td>zLo9f73nGGT1p21ltZC3ChiRnAVvgibMyazbCxvWPcg=</td>\n",
       "      <td>1</td>\n",
       "    </tr>\n",
       "    <tr>\n",
       "      <th>3</th>\n",
       "      <td>8iF/+8HY8lJKFrTc7iR9ZYGCG2Ecrogbc2Vy5YhsfhQ=</td>\n",
       "      <td>1</td>\n",
       "    </tr>\n",
       "    <tr>\n",
       "      <th>4</th>\n",
       "      <td>K6fja4+jmoZ5xG6BypqX80Uw/XKpMgrEMdG2edFOxnA=</td>\n",
       "      <td>1</td>\n",
       "    </tr>\n",
       "  </tbody>\n",
       "</table>\n",
       "</div>"
      ],
      "text/plain": [
       "                                           msno  is_churn\n",
       "0  ugx0CjOMzazClkFzU2xasmDZaoIqOUAZPsH1q0teWCg=         1\n",
       "1  f/NmvEzHfhINFEYZTR05prUdr+E+3+oewvweYz9cCQE=         1\n",
       "2  zLo9f73nGGT1p21ltZC3ChiRnAVvgibMyazbCxvWPcg=         1\n",
       "3  8iF/+8HY8lJKFrTc7iR9ZYGCG2Ecrogbc2Vy5YhsfhQ=         1\n",
       "4  K6fja4+jmoZ5xG6BypqX80Uw/XKpMgrEMdG2edFOxnA=         1"
      ]
     },
     "execution_count": 24,
     "metadata": {},
     "output_type": "execute_result"
    }
   ],
   "source": [
    "traindf2 = pd.read_csv(\"./rowdata/train_v2.csv/train_v2.csv\")\n",
    "traindf2.head()"
   ]
  },
  {
   "cell_type": "code",
   "execution_count": 25,
   "metadata": {},
   "outputs": [
    {
     "name": "stdout",
     "output_type": "stream",
     "text": [
      "<class 'pandas.core.frame.DataFrame'>\n",
      "RangeIndex: 970960 entries, 0 to 970959\n",
      "Data columns (total 2 columns):\n",
      "msno        970960 non-null object\n",
      "is_churn    970960 non-null int64\n",
      "dtypes: int64(1), object(1)\n",
      "memory usage: 14.8+ MB\n"
     ]
    }
   ],
   "source": [
    "traindf2.info()"
   ]
  },
  {
   "cell_type": "code",
   "execution_count": 26,
   "metadata": {},
   "outputs": [
    {
     "data": {
      "text/plain": [
       "0    883630\n",
       "1     87330\n",
       "Name: is_churn, dtype: int64"
      ]
     },
     "execution_count": 26,
     "metadata": {},
     "output_type": "execute_result"
    }
   ],
   "source": [
    "traindf.is_churn.value_counts()\n",
    "traindf2.is_churn.value_counts()"
   ]
  },
  {
   "cell_type": "code",
   "execution_count": 27,
   "metadata": {},
   "outputs": [
    {
     "data": {
      "text/plain": [
       "True"
      ]
     },
     "execution_count": 27,
     "metadata": {},
     "output_type": "execute_result"
    }
   ],
   "source": [
    "traindf.msno.is_unique\n",
    "traindf2.msno.is_unique"
   ]
  },
  {
   "cell_type": "code",
   "execution_count": 28,
   "metadata": {},
   "outputs": [
    {
     "data": {
      "text/plain": [
       "Index(['msno', 'city', 'bd', 'gender', 'registered_via',\n",
       "       'registration_init_time'],\n",
       "      dtype='object')"
      ]
     },
     "execution_count": 28,
     "metadata": {},
     "output_type": "execute_result"
    }
   ],
   "source": [
    "df.columns"
   ]
  },
  {
   "cell_type": "markdown",
   "metadata": {},
   "source": [
    "## Train1과 Train2 Data 유효성 검증"
   ]
  },
  {
   "cell_type": "code",
   "execution_count": 29,
   "metadata": {},
   "outputs": [
    {
     "data": {
      "text/plain": [
       "msno        881701\n",
       "is_churn    881701\n",
       "dtype: int64"
      ]
     },
     "execution_count": 29,
     "metadata": {},
     "output_type": "execute_result"
    }
   ],
   "source": [
    "traindf[traindf['msno'].isin(traindf2['msno'])].count()"
   ]
  },
  {
   "cell_type": "code",
   "execution_count": 30,
   "metadata": {},
   "outputs": [
    {
     "data": {
      "text/plain": [
       "msno        881701\n",
       "is_churn    881701\n",
       "dtype: int64"
      ]
     },
     "execution_count": 30,
     "metadata": {},
     "output_type": "execute_result"
    }
   ],
   "source": [
    "traindf2[traindf2['msno'].isin(traindf['msno'])].count()"
   ]
  },
  {
   "cell_type": "code",
   "execution_count": 31,
   "metadata": {},
   "outputs": [
    {
     "data": {
      "text/plain": [
       "msno        111230\n",
       "is_churn    111230\n",
       "dtype: int64"
      ]
     },
     "execution_count": 31,
     "metadata": {},
     "output_type": "execute_result"
    }
   ],
   "source": [
    "traindf[traindf['msno'].isin(traindf2['msno'])==False].count()"
   ]
  },
  {
   "cell_type": "code",
   "execution_count": 32,
   "metadata": {},
   "outputs": [
    {
     "data": {
      "text/plain": [
       "msno        89259\n",
       "is_churn    89259\n",
       "dtype: int64"
      ]
     },
     "execution_count": 32,
     "metadata": {},
     "output_type": "execute_result"
    }
   ],
   "source": [
    "traindf2[traindf2['msno'].isin(traindf['msno'])==False].count()"
   ]
  },
  {
   "cell_type": "code",
   "execution_count": 33,
   "metadata": {
    "collapsed": true
   },
   "outputs": [],
   "source": [
    "# train2 에 없는 train1 값만 추출 \n",
    "nottrain2df = traindf[traindf['msno'].isin(traindf2['msno'])==False]"
   ]
  },
  {
   "cell_type": "code",
   "execution_count": 34,
   "metadata": {},
   "outputs": [
    {
     "data": {
      "text/plain": [
       "msno        0\n",
       "is_churn    0\n",
       "dtype: int64"
      ]
     },
     "execution_count": 34,
     "metadata": {},
     "output_type": "execute_result"
    }
   ],
   "source": [
    "traindf2[traindf2['msno'].isin(nottrain2df['msno'])].count()"
   ]
  },
  {
   "cell_type": "code",
   "execution_count": 35,
   "metadata": {
    "collapsed": true
   },
   "outputs": [],
   "source": [
    "# train2 와 train2에 없는 train1 값 합침 \n",
    "trainAlldf = pd.concat([nottrain2df, traindf2])"
   ]
  },
  {
   "cell_type": "code",
   "execution_count": 36,
   "metadata": {},
   "outputs": [
    {
     "name": "stdout",
     "output_type": "stream",
     "text": [
      "<class 'pandas.core.frame.DataFrame'>\n",
      "Int64Index: 1082190 entries, 0 to 970959\n",
      "Data columns (total 2 columns):\n",
      "msno        1082190 non-null object\n",
      "is_churn    1082190 non-null int64\n",
      "dtypes: int64(1), object(1)\n",
      "memory usage: 24.8+ MB\n"
     ]
    }
   ],
   "source": [
    "trainAlldf.info()"
   ]
  },
  {
   "cell_type": "code",
   "execution_count": 37,
   "metadata": {},
   "outputs": [
    {
     "data": {
      "text/html": [
       "<div>\n",
       "<style>\n",
       "    .dataframe thead tr:only-child th {\n",
       "        text-align: right;\n",
       "    }\n",
       "\n",
       "    .dataframe thead th {\n",
       "        text-align: left;\n",
       "    }\n",
       "\n",
       "    .dataframe tbody tr th {\n",
       "        vertical-align: top;\n",
       "    }\n",
       "</style>\n",
       "<table border=\"1\" class=\"dataframe\">\n",
       "  <thead>\n",
       "    <tr style=\"text-align: right;\">\n",
       "      <th></th>\n",
       "      <th>msno</th>\n",
       "      <th>city</th>\n",
       "      <th>bd</th>\n",
       "      <th>gender</th>\n",
       "      <th>registered_via</th>\n",
       "      <th>registration_init_time</th>\n",
       "    </tr>\n",
       "  </thead>\n",
       "  <tbody>\n",
       "    <tr>\n",
       "      <th>0</th>\n",
       "      <td>Rb9UwLQTrxzBVwCB6+bCcSQWZ9JiNLC9dXtM1oEsZA8=</td>\n",
       "      <td>1</td>\n",
       "      <td>0</td>\n",
       "      <td>NaN</td>\n",
       "      <td>11</td>\n",
       "      <td>2011-09-11</td>\n",
       "    </tr>\n",
       "    <tr>\n",
       "      <th>2</th>\n",
       "      <td>cV358ssn7a0f7jZOwGNWS07wCKVqxyiImJUX6xcIwKw=</td>\n",
       "      <td>1</td>\n",
       "      <td>0</td>\n",
       "      <td>NaN</td>\n",
       "      <td>11</td>\n",
       "      <td>2011-09-15</td>\n",
       "    </tr>\n",
       "    <tr>\n",
       "      <th>3</th>\n",
       "      <td>9bzDeJP6sQodK73K5CBlJ6fgIQzPeLnRl0p5B77XP+g=</td>\n",
       "      <td>1</td>\n",
       "      <td>0</td>\n",
       "      <td>NaN</td>\n",
       "      <td>11</td>\n",
       "      <td>2011-09-15</td>\n",
       "    </tr>\n",
       "    <tr>\n",
       "      <th>4</th>\n",
       "      <td>WFLY3s7z4EZsieHCt63XrsdtfTEmJ+2PnnKLH5GY4Tk=</td>\n",
       "      <td>6</td>\n",
       "      <td>32</td>\n",
       "      <td>female</td>\n",
       "      <td>9</td>\n",
       "      <td>2011-09-15</td>\n",
       "    </tr>\n",
       "    <tr>\n",
       "      <th>6</th>\n",
       "      <td>jNCGK78YkTyId3H3wFavcBLDmz7pfqlvCfUKf4G1Lw4=</td>\n",
       "      <td>1</td>\n",
       "      <td>0</td>\n",
       "      <td>NaN</td>\n",
       "      <td>7</td>\n",
       "      <td>2011-09-16</td>\n",
       "    </tr>\n",
       "  </tbody>\n",
       "</table>\n",
       "</div>"
      ],
      "text/plain": [
       "                                           msno  city  bd  gender  \\\n",
       "0  Rb9UwLQTrxzBVwCB6+bCcSQWZ9JiNLC9dXtM1oEsZA8=     1   0     NaN   \n",
       "2  cV358ssn7a0f7jZOwGNWS07wCKVqxyiImJUX6xcIwKw=     1   0     NaN   \n",
       "3  9bzDeJP6sQodK73K5CBlJ6fgIQzPeLnRl0p5B77XP+g=     1   0     NaN   \n",
       "4  WFLY3s7z4EZsieHCt63XrsdtfTEmJ+2PnnKLH5GY4Tk=     6  32  female   \n",
       "6  jNCGK78YkTyId3H3wFavcBLDmz7pfqlvCfUKf4G1Lw4=     1   0     NaN   \n",
       "\n",
       "   registered_via registration_init_time  \n",
       "0              11             2011-09-11  \n",
       "2              11             2011-09-15  \n",
       "3              11             2011-09-15  \n",
       "4               9             2011-09-15  \n",
       "6               7             2011-09-16  "
      ]
     },
     "execution_count": 37,
     "metadata": {},
     "output_type": "execute_result"
    }
   ],
   "source": [
    "df[df['msno'].isin(trainAlldf['msno'])==False].head()"
   ]
  },
  {
   "cell_type": "code",
   "execution_count": 38,
   "metadata": {},
   "outputs": [
    {
     "data": {
      "text/html": [
       "<div>\n",
       "<style>\n",
       "    .dataframe thead tr:only-child th {\n",
       "        text-align: right;\n",
       "    }\n",
       "\n",
       "    .dataframe thead th {\n",
       "        text-align: left;\n",
       "    }\n",
       "\n",
       "    .dataframe tbody tr th {\n",
       "        vertical-align: top;\n",
       "    }\n",
       "</style>\n",
       "<table border=\"1\" class=\"dataframe\">\n",
       "  <thead>\n",
       "    <tr style=\"text-align: right;\">\n",
       "      <th></th>\n",
       "      <th>msno</th>\n",
       "      <th>is_churn</th>\n",
       "    </tr>\n",
       "  </thead>\n",
       "  <tbody>\n",
       "  </tbody>\n",
       "</table>\n",
       "</div>"
      ],
      "text/plain": [
       "Empty DataFrame\n",
       "Columns: [msno, is_churn]\n",
       "Index: []"
      ]
     },
     "execution_count": 38,
     "metadata": {},
     "output_type": "execute_result"
    }
   ],
   "source": [
    "trainAlldf[trainAlldf['msno']=='Rb9UwLQTrxzBVwCB6+bCcSQWZ9JiNLC9dXtM1oEsZA8=']"
   ]
  },
  {
   "cell_type": "markdown",
   "metadata": {},
   "source": [
    "#### 확인 \n",
    "Member 오리지널 데이터와 합쳐진 데이터 확인"
   ]
  },
  {
   "cell_type": "code",
   "execution_count": 39,
   "metadata": {
    "collapsed": true
   },
   "outputs": [],
   "source": [
    "ex = trainAlldf[trainAlldf['msno'].isin(df['msno'])==False]"
   ]
  },
  {
   "cell_type": "code",
   "execution_count": 40,
   "metadata": {},
   "outputs": [
    {
     "data": {
      "text/plain": [
       "msno        120759\n",
       "is_churn    120759\n",
       "dtype: int64"
      ]
     },
     "execution_count": 40,
     "metadata": {},
     "output_type": "execute_result"
    }
   ],
   "source": [
    "ex.count()"
   ]
  },
  {
   "cell_type": "code",
   "execution_count": 41,
   "metadata": {},
   "outputs": [
    {
     "data": {
      "text/plain": [
       "True"
      ]
     },
     "execution_count": 41,
     "metadata": {},
     "output_type": "execute_result"
    }
   ],
   "source": [
    "ex['msno'].is_unique"
   ]
  },
  {
   "cell_type": "code",
   "execution_count": 42,
   "metadata": {
    "collapsed": true
   },
   "outputs": [],
   "source": [
    "trainNmem = trainAlldf[trainAlldf['msno'].isin(df['msno'])]"
   ]
  },
  {
   "cell_type": "code",
   "execution_count": 43,
   "metadata": {},
   "outputs": [
    {
     "name": "stdout",
     "output_type": "stream",
     "text": [
      "<class 'pandas.core.frame.DataFrame'>\n",
      "Int64Index: 961431 entries, 0 to 970958\n",
      "Data columns (total 2 columns):\n",
      "msno        961431 non-null object\n",
      "is_churn    961431 non-null int64\n",
      "dtypes: int64(1), object(1)\n",
      "memory usage: 22.0+ MB\n"
     ]
    }
   ],
   "source": [
    "trainNmem.info()"
   ]
  },
  {
   "cell_type": "code",
   "execution_count": 44,
   "metadata": {
    "collapsed": true
   },
   "outputs": [],
   "source": [
    "ex2 = df[df['msno'].isin(trainAlldf['msno'])==False]"
   ]
  },
  {
   "cell_type": "code",
   "execution_count": 45,
   "metadata": {},
   "outputs": [
    {
     "data": {
      "text/plain": [
       "msno                      5808042\n",
       "city                      5808042\n",
       "bd                        5808042\n",
       "gender                    1897899\n",
       "registered_via            5808042\n",
       "registration_init_time    5808042\n",
       "dtype: int64"
      ]
     },
     "execution_count": 45,
     "metadata": {},
     "output_type": "execute_result"
    }
   ],
   "source": [
    "ex2.count()"
   ]
  },
  {
   "cell_type": "markdown",
   "metadata": {},
   "source": [
    "## Member merge Train "
   ]
  },
  {
   "cell_type": "code",
   "execution_count": 43,
   "metadata": {
    "collapsed": true
   },
   "outputs": [],
   "source": [
    "mtdf = pd.merge(trainAlldf, df, how='left')"
   ]
  },
  {
   "cell_type": "code",
   "execution_count": 44,
   "metadata": {},
   "outputs": [
    {
     "name": "stdout",
     "output_type": "stream",
     "text": [
      "<class 'pandas.core.frame.DataFrame'>\n",
      "Int64Index: 1082190 entries, 0 to 1082189\n",
      "Data columns (total 7 columns):\n",
      "msno                      1082190 non-null object\n",
      "is_churn                  1082190 non-null int64\n",
      "city                      961431 non-null float64\n",
      "bd                        961431 non-null float64\n",
      "gender                    442069 non-null object\n",
      "registered_via            961431 non-null float64\n",
      "registration_init_time    961431 non-null datetime64[ns]\n",
      "dtypes: datetime64[ns](1), float64(3), int64(1), object(2)\n",
      "memory usage: 66.1+ MB\n"
     ]
    }
   ],
   "source": [
    "mtdf.info()"
   ]
  },
  {
   "cell_type": "code",
   "execution_count": 45,
   "metadata": {},
   "outputs": [
    {
     "data": {
      "text/html": [
       "<div>\n",
       "<style>\n",
       "    .dataframe thead tr:only-child th {\n",
       "        text-align: right;\n",
       "    }\n",
       "\n",
       "    .dataframe thead th {\n",
       "        text-align: left;\n",
       "    }\n",
       "\n",
       "    .dataframe tbody tr th {\n",
       "        vertical-align: top;\n",
       "    }\n",
       "</style>\n",
       "<table border=\"1\" class=\"dataframe\">\n",
       "  <thead>\n",
       "    <tr style=\"text-align: right;\">\n",
       "      <th></th>\n",
       "      <th>msno</th>\n",
       "      <th>is_churn</th>\n",
       "      <th>city</th>\n",
       "      <th>bd</th>\n",
       "      <th>gender</th>\n",
       "      <th>registered_via</th>\n",
       "      <th>registration_init_time</th>\n",
       "    </tr>\n",
       "  </thead>\n",
       "  <tbody>\n",
       "    <tr>\n",
       "      <th>0</th>\n",
       "      <td>waLDQMmcOu2jLDaV1ddDkgCrB/jl6sD66Xzs0Vqax1Y=</td>\n",
       "      <td>1</td>\n",
       "      <td>18.0</td>\n",
       "      <td>36.0</td>\n",
       "      <td>female</td>\n",
       "      <td>9.0</td>\n",
       "      <td>2005-04-06</td>\n",
       "    </tr>\n",
       "    <tr>\n",
       "      <th>1</th>\n",
       "      <td>fGwBva6hikQmTJzrbz/2Ezjm5Cth5jZUNvXigKK2AFA=</td>\n",
       "      <td>1</td>\n",
       "      <td>11.0</td>\n",
       "      <td>27.0</td>\n",
       "      <td>female</td>\n",
       "      <td>9.0</td>\n",
       "      <td>2005-10-16</td>\n",
       "    </tr>\n",
       "    <tr>\n",
       "      <th>2</th>\n",
       "      <td>mT5V8rEpa+8wuqi6x0DoVd3H5icMKkE9Prt49UlmK+4=</td>\n",
       "      <td>1</td>\n",
       "      <td>13.0</td>\n",
       "      <td>23.0</td>\n",
       "      <td>female</td>\n",
       "      <td>9.0</td>\n",
       "      <td>2005-11-02</td>\n",
       "    </tr>\n",
       "    <tr>\n",
       "      <th>3</th>\n",
       "      <td>XaPhtGLk/5UvvOYHcONTwsnH97P4eGECeq+BARGItRw=</td>\n",
       "      <td>1</td>\n",
       "      <td>3.0</td>\n",
       "      <td>27.0</td>\n",
       "      <td>male</td>\n",
       "      <td>9.0</td>\n",
       "      <td>2005-12-28</td>\n",
       "    </tr>\n",
       "    <tr>\n",
       "      <th>4</th>\n",
       "      <td>GBy8qSz16X5iYWD+3CMxv/Hm6OPSrXBYtmbnlRtknW0=</td>\n",
       "      <td>1</td>\n",
       "      <td>6.0</td>\n",
       "      <td>23.0</td>\n",
       "      <td>female</td>\n",
       "      <td>9.0</td>\n",
       "      <td>2006-03-31</td>\n",
       "    </tr>\n",
       "  </tbody>\n",
       "</table>\n",
       "</div>"
      ],
      "text/plain": [
       "                                           msno  is_churn  city    bd  gender  \\\n",
       "0  waLDQMmcOu2jLDaV1ddDkgCrB/jl6sD66Xzs0Vqax1Y=         1  18.0  36.0  female   \n",
       "1  fGwBva6hikQmTJzrbz/2Ezjm5Cth5jZUNvXigKK2AFA=         1  11.0  27.0  female   \n",
       "2  mT5V8rEpa+8wuqi6x0DoVd3H5icMKkE9Prt49UlmK+4=         1  13.0  23.0  female   \n",
       "3  XaPhtGLk/5UvvOYHcONTwsnH97P4eGECeq+BARGItRw=         1   3.0  27.0    male   \n",
       "4  GBy8qSz16X5iYWD+3CMxv/Hm6OPSrXBYtmbnlRtknW0=         1   6.0  23.0  female   \n",
       "\n",
       "   registered_via registration_init_time  \n",
       "0             9.0             2005-04-06  \n",
       "1             9.0             2005-10-16  \n",
       "2             9.0             2005-11-02  \n",
       "3             9.0             2005-12-28  \n",
       "4             9.0             2006-03-31  "
      ]
     },
     "execution_count": 45,
     "metadata": {},
     "output_type": "execute_result"
    }
   ],
   "source": [
    "mtdf.head()"
   ]
  },
  {
   "cell_type": "code",
   "execution_count": 46,
   "metadata": {},
   "outputs": [
    {
     "data": {
      "text/html": [
       "<div>\n",
       "<style>\n",
       "    .dataframe thead tr:only-child th {\n",
       "        text-align: right;\n",
       "    }\n",
       "\n",
       "    .dataframe thead th {\n",
       "        text-align: left;\n",
       "    }\n",
       "\n",
       "    .dataframe tbody tr th {\n",
       "        vertical-align: top;\n",
       "    }\n",
       "</style>\n",
       "<table border=\"1\" class=\"dataframe\">\n",
       "  <thead>\n",
       "    <tr style=\"text-align: right;\">\n",
       "      <th></th>\n",
       "      <th>msno</th>\n",
       "      <th>is_churn</th>\n",
       "      <th>city</th>\n",
       "      <th>bd</th>\n",
       "      <th>gender</th>\n",
       "      <th>registered_via</th>\n",
       "      <th>registration_init_time</th>\n",
       "    </tr>\n",
       "  </thead>\n",
       "  <tbody>\n",
       "    <tr>\n",
       "      <th>1082185</th>\n",
       "      <td>OHnZbu+EVaP+vN7Z+OfT5OMcp90MWFZonmM0o3pb8FY=</td>\n",
       "      <td>0</td>\n",
       "      <td>13.0</td>\n",
       "      <td>28.0</td>\n",
       "      <td>male</td>\n",
       "      <td>7.0</td>\n",
       "      <td>2011-08-31</td>\n",
       "    </tr>\n",
       "    <tr>\n",
       "      <th>1082186</th>\n",
       "      <td>S92bDK//uI6hk3u1vuApro0qJBQOToBozZ7lL1yTC+w=</td>\n",
       "      <td>0</td>\n",
       "      <td>1.0</td>\n",
       "      <td>0.0</td>\n",
       "      <td>NaN</td>\n",
       "      <td>7.0</td>\n",
       "      <td>2011-09-03</td>\n",
       "    </tr>\n",
       "    <tr>\n",
       "      <th>1082187</th>\n",
       "      <td>eUa3xo16vpAjr43Cjlb6Kjf1NTILYyJIkBayJQdXWnw=</td>\n",
       "      <td>0</td>\n",
       "      <td>1.0</td>\n",
       "      <td>0.0</td>\n",
       "      <td>NaN</td>\n",
       "      <td>7.0</td>\n",
       "      <td>2011-09-05</td>\n",
       "    </tr>\n",
       "    <tr>\n",
       "      <th>1082188</th>\n",
       "      <td>iZE41tbAQ65rJq60olkJT4BJzuUAYgQdfbEemXe/TTk=</td>\n",
       "      <td>0</td>\n",
       "      <td>5.0</td>\n",
       "      <td>25.0</td>\n",
       "      <td>female</td>\n",
       "      <td>9.0</td>\n",
       "      <td>2011-09-05</td>\n",
       "    </tr>\n",
       "    <tr>\n",
       "      <th>1082189</th>\n",
       "      <td>oECkzJik4wKsbOEVY6UACLbmgM8qymFdb5cJaHrodY8=</td>\n",
       "      <td>0</td>\n",
       "      <td>NaN</td>\n",
       "      <td>NaN</td>\n",
       "      <td>NaN</td>\n",
       "      <td>NaN</td>\n",
       "      <td>NaT</td>\n",
       "    </tr>\n",
       "  </tbody>\n",
       "</table>\n",
       "</div>"
      ],
      "text/plain": [
       "                                                 msno  is_churn  city    bd  \\\n",
       "1082185  OHnZbu+EVaP+vN7Z+OfT5OMcp90MWFZonmM0o3pb8FY=         0  13.0  28.0   \n",
       "1082186  S92bDK//uI6hk3u1vuApro0qJBQOToBozZ7lL1yTC+w=         0   1.0   0.0   \n",
       "1082187  eUa3xo16vpAjr43Cjlb6Kjf1NTILYyJIkBayJQdXWnw=         0   1.0   0.0   \n",
       "1082188  iZE41tbAQ65rJq60olkJT4BJzuUAYgQdfbEemXe/TTk=         0   5.0  25.0   \n",
       "1082189  oECkzJik4wKsbOEVY6UACLbmgM8qymFdb5cJaHrodY8=         0   NaN   NaN   \n",
       "\n",
       "         gender  registered_via registration_init_time  \n",
       "1082185    male             7.0             2011-08-31  \n",
       "1082186     NaN             7.0             2011-09-03  \n",
       "1082187     NaN             7.0             2011-09-05  \n",
       "1082188  female             9.0             2011-09-05  \n",
       "1082189     NaN             NaN                    NaT  "
      ]
     },
     "execution_count": 46,
     "metadata": {},
     "output_type": "execute_result"
    }
   ],
   "source": [
    "mtdf.tail()"
   ]
  },
  {
   "cell_type": "code",
   "execution_count": 47,
   "metadata": {},
   "outputs": [
    {
     "data": {
      "text/plain": [
       "msno                      120759\n",
       "is_churn                  120759\n",
       "city                           0\n",
       "bd                             0\n",
       "gender                         0\n",
       "registered_via                 0\n",
       "registration_init_time         0\n",
       "dtype: int64"
      ]
     },
     "execution_count": 47,
     "metadata": {},
     "output_type": "execute_result"
    }
   ],
   "source": [
    "mtdf[mtdf['city'].isnull()].count()"
   ]
  },
  {
   "cell_type": "code",
   "execution_count": 48,
   "metadata": {},
   "outputs": [
    {
     "data": {
      "text/plain": [
       "True"
      ]
     },
     "execution_count": 48,
     "metadata": {},
     "output_type": "execute_result"
    }
   ],
   "source": [
    "mtdf['msno'].is_unique"
   ]
  },
  {
   "cell_type": "code",
   "execution_count": 49,
   "metadata": {
    "scrolled": true
   },
   "outputs": [
    {
     "data": {
      "text/html": [
       "<div>\n",
       "<style>\n",
       "    .dataframe thead tr:only-child th {\n",
       "        text-align: right;\n",
       "    }\n",
       "\n",
       "    .dataframe thead th {\n",
       "        text-align: left;\n",
       "    }\n",
       "\n",
       "    .dataframe tbody tr th {\n",
       "        vertical-align: top;\n",
       "    }\n",
       "</style>\n",
       "<table border=\"1\" class=\"dataframe\">\n",
       "  <thead>\n",
       "    <tr style=\"text-align: right;\">\n",
       "      <th></th>\n",
       "      <th>msno</th>\n",
       "      <th>is_churn</th>\n",
       "    </tr>\n",
       "  </thead>\n",
       "  <tbody>\n",
       "  </tbody>\n",
       "</table>\n",
       "</div>"
      ],
      "text/plain": [
       "Empty DataFrame\n",
       "Columns: [msno, is_churn]\n",
       "Index: []"
      ]
     },
     "execution_count": 49,
     "metadata": {},
     "output_type": "execute_result"
    }
   ],
   "source": [
    "traindf2[traindf2['msno']=='9bzDeJP6sQodK73K5CBlJ6fgIQzPeLnRl0p5B77XP+g=']"
   ]
  },
  {
   "cell_type": "code",
   "execution_count": 53,
   "metadata": {
    "collapsed": true
   },
   "outputs": [],
   "source": [
    "mtdf.to_csv(\"memTrain.csv\")"
   ]
  },
  {
   "cell_type": "markdown",
   "metadata": {},
   "source": [
    "------------------------\n",
    "test "
   ]
  },
  {
   "cell_type": "code",
   "execution_count": 66,
   "metadata": {},
   "outputs": [
    {
     "data": {
      "text/html": [
       "<div>\n",
       "<style>\n",
       "    .dataframe thead tr:only-child th {\n",
       "        text-align: right;\n",
       "    }\n",
       "\n",
       "    .dataframe thead th {\n",
       "        text-align: left;\n",
       "    }\n",
       "\n",
       "    .dataframe tbody tr th {\n",
       "        vertical-align: top;\n",
       "    }\n",
       "</style>\n",
       "<table border=\"1\" class=\"dataframe\">\n",
       "  <thead>\n",
       "    <tr style=\"text-align: right;\">\n",
       "      <th></th>\n",
       "      <th>msno</th>\n",
       "      <th>is_churn</th>\n",
       "    </tr>\n",
       "  </thead>\n",
       "  <tbody>\n",
       "    <tr>\n",
       "      <th>0</th>\n",
       "      <td>ugx0CjOMzazClkFzU2xasmDZaoIqOUAZPsH1q0teWCg=</td>\n",
       "      <td>0</td>\n",
       "    </tr>\n",
       "    <tr>\n",
       "      <th>1</th>\n",
       "      <td>f/NmvEzHfhINFEYZTR05prUdr+E+3+oewvweYz9cCQE=</td>\n",
       "      <td>0</td>\n",
       "    </tr>\n",
       "    <tr>\n",
       "      <th>2</th>\n",
       "      <td>zLo9f73nGGT1p21ltZC3ChiRnAVvgibMyazbCxvWPcg=</td>\n",
       "      <td>0</td>\n",
       "    </tr>\n",
       "    <tr>\n",
       "      <th>3</th>\n",
       "      <td>8iF/+8HY8lJKFrTc7iR9ZYGCG2Ecrogbc2Vy5YhsfhQ=</td>\n",
       "      <td>0</td>\n",
       "    </tr>\n",
       "    <tr>\n",
       "      <th>4</th>\n",
       "      <td>K6fja4+jmoZ5xG6BypqX80Uw/XKpMgrEMdG2edFOxnA=</td>\n",
       "      <td>0</td>\n",
       "    </tr>\n",
       "  </tbody>\n",
       "</table>\n",
       "</div>"
      ],
      "text/plain": [
       "                                           msno  is_churn\n",
       "0  ugx0CjOMzazClkFzU2xasmDZaoIqOUAZPsH1q0teWCg=         0\n",
       "1  f/NmvEzHfhINFEYZTR05prUdr+E+3+oewvweYz9cCQE=         0\n",
       "2  zLo9f73nGGT1p21ltZC3ChiRnAVvgibMyazbCxvWPcg=         0\n",
       "3  8iF/+8HY8lJKFrTc7iR9ZYGCG2Ecrogbc2Vy5YhsfhQ=         0\n",
       "4  K6fja4+jmoZ5xG6BypqX80Uw/XKpMgrEMdG2edFOxnA=         0"
      ]
     },
     "execution_count": 66,
     "metadata": {},
     "output_type": "execute_result"
    }
   ],
   "source": [
    "testdf1 = pd.read_csv(\"./rowdata/sample_submission_zero.csv/sample_submission_zero.csv\")\n",
    "testdf1.head()"
   ]
  },
  {
   "cell_type": "code",
   "execution_count": 67,
   "metadata": {},
   "outputs": [
    {
     "data": {
      "text/html": [
       "<div>\n",
       "<style>\n",
       "    .dataframe thead tr:only-child th {\n",
       "        text-align: right;\n",
       "    }\n",
       "\n",
       "    .dataframe thead th {\n",
       "        text-align: left;\n",
       "    }\n",
       "\n",
       "    .dataframe tbody tr th {\n",
       "        vertical-align: top;\n",
       "    }\n",
       "</style>\n",
       "<table border=\"1\" class=\"dataframe\">\n",
       "  <thead>\n",
       "    <tr style=\"text-align: right;\">\n",
       "      <th></th>\n",
       "      <th>msno</th>\n",
       "      <th>is_churn</th>\n",
       "    </tr>\n",
       "  </thead>\n",
       "  <tbody>\n",
       "    <tr>\n",
       "      <th>0</th>\n",
       "      <td>4n+fXlyJvfQnTeKXTWT507Ll4JVYGrOC8LHCfwBmPE4=</td>\n",
       "      <td>0</td>\n",
       "    </tr>\n",
       "    <tr>\n",
       "      <th>1</th>\n",
       "      <td>aNmbC1GvFUxQyQUidCVmfbQ0YeCuwkPzEdQ0RwWyeZM=</td>\n",
       "      <td>0</td>\n",
       "    </tr>\n",
       "    <tr>\n",
       "      <th>2</th>\n",
       "      <td>rFC9eSG/tMuzpre6cwcMLZHEYM89xY02qcz7HL4//jc=</td>\n",
       "      <td>0</td>\n",
       "    </tr>\n",
       "    <tr>\n",
       "      <th>3</th>\n",
       "      <td>WZ59dLyrQcE7ft06MZ5dj40BnlYQY7PHgg/54+HaCSE=</td>\n",
       "      <td>0</td>\n",
       "    </tr>\n",
       "    <tr>\n",
       "      <th>4</th>\n",
       "      <td>aky/Iv8hMp1/V/yQHLtaVuEmmAxkB5GuasQZePJ7NU4=</td>\n",
       "      <td>0</td>\n",
       "    </tr>\n",
       "  </tbody>\n",
       "</table>\n",
       "</div>"
      ],
      "text/plain": [
       "                                           msno  is_churn\n",
       "0  4n+fXlyJvfQnTeKXTWT507Ll4JVYGrOC8LHCfwBmPE4=         0\n",
       "1  aNmbC1GvFUxQyQUidCVmfbQ0YeCuwkPzEdQ0RwWyeZM=         0\n",
       "2  rFC9eSG/tMuzpre6cwcMLZHEYM89xY02qcz7HL4//jc=         0\n",
       "3  WZ59dLyrQcE7ft06MZ5dj40BnlYQY7PHgg/54+HaCSE=         0\n",
       "4  aky/Iv8hMp1/V/yQHLtaVuEmmAxkB5GuasQZePJ7NU4=         0"
      ]
     },
     "execution_count": 67,
     "metadata": {},
     "output_type": "execute_result"
    }
   ],
   "source": [
    "testdf2 = pd.read_csv(\"./rowdata/sample_submission_v2.csv/sample_submission_v2.csv\")\n",
    "testdf2.head()"
   ]
  },
  {
   "cell_type": "code",
   "execution_count": 74,
   "metadata": {},
   "outputs": [
    {
     "name": "stdout",
     "output_type": "stream",
     "text": [
      "<class 'pandas.core.frame.DataFrame'>\n",
      "RangeIndex: 970960 entries, 0 to 970959\n",
      "Data columns (total 2 columns):\n",
      "msno        970960 non-null object\n",
      "is_churn    970960 non-null int64\n",
      "dtypes: int64(1), object(1)\n",
      "memory usage: 14.8+ MB\n",
      "<class 'pandas.core.frame.DataFrame'>\n",
      "RangeIndex: 907471 entries, 0 to 907470\n",
      "Data columns (total 2 columns):\n",
      "msno        907471 non-null object\n",
      "is_churn    907471 non-null int64\n",
      "dtypes: int64(1), object(1)\n",
      "memory usage: 13.8+ MB\n"
     ]
    }
   ],
   "source": [
    "testdf1.info()\n",
    "testdf2.info()"
   ]
  },
  {
   "cell_type": "markdown",
   "metadata": {},
   "source": [
    "------------------------ "
   ]
  },
  {
   "cell_type": "markdown",
   "metadata": {},
   "source": [
    "## Transaction Data"
   ]
  },
  {
   "cell_type": "code",
   "execution_count": 50,
   "metadata": {},
   "outputs": [
    {
     "data": {
      "text/html": [
       "<div>\n",
       "<style>\n",
       "    .dataframe thead tr:only-child th {\n",
       "        text-align: right;\n",
       "    }\n",
       "\n",
       "    .dataframe thead th {\n",
       "        text-align: left;\n",
       "    }\n",
       "\n",
       "    .dataframe tbody tr th {\n",
       "        vertical-align: top;\n",
       "    }\n",
       "</style>\n",
       "<table border=\"1\" class=\"dataframe\">\n",
       "  <thead>\n",
       "    <tr style=\"text-align: right;\">\n",
       "      <th></th>\n",
       "      <th>Unnamed: 0</th>\n",
       "      <th>msno</th>\n",
       "      <th>payment_method_id</th>\n",
       "      <th>payment_plan_days</th>\n",
       "      <th>plan_list_price</th>\n",
       "      <th>actual_amount_paid</th>\n",
       "      <th>is_auto_renew</th>\n",
       "      <th>transaction_date</th>\n",
       "      <th>membership_expire_date</th>\n",
       "      <th>is_cancel</th>\n",
       "    </tr>\n",
       "  </thead>\n",
       "  <tbody>\n",
       "    <tr>\n",
       "      <th>0</th>\n",
       "      <td>1</td>\n",
       "      <td>YyO+tlZtAXYXoZhNr3Vg3+dfVQvrBVGO8j1mfqe4ZHc=</td>\n",
       "      <td>41</td>\n",
       "      <td>30</td>\n",
       "      <td>129</td>\n",
       "      <td>129</td>\n",
       "      <td>1</td>\n",
       "      <td>20150930</td>\n",
       "      <td>20151101</td>\n",
       "      <td>0</td>\n",
       "    </tr>\n",
       "    <tr>\n",
       "      <th>1</th>\n",
       "      <td>2</td>\n",
       "      <td>AZtu6Wl0gPojrEQYB8Q3vBSmE2wnZ3hi1FbK1rQQ0A4=</td>\n",
       "      <td>41</td>\n",
       "      <td>30</td>\n",
       "      <td>149</td>\n",
       "      <td>149</td>\n",
       "      <td>1</td>\n",
       "      <td>20150930</td>\n",
       "      <td>20151031</td>\n",
       "      <td>0</td>\n",
       "    </tr>\n",
       "    <tr>\n",
       "      <th>2</th>\n",
       "      <td>3</td>\n",
       "      <td>UkDFI97Qb6+s2LWcijVVv4rMAsORbVDT2wNXF0aVbns=</td>\n",
       "      <td>41</td>\n",
       "      <td>30</td>\n",
       "      <td>129</td>\n",
       "      <td>129</td>\n",
       "      <td>1</td>\n",
       "      <td>20150930</td>\n",
       "      <td>20160427</td>\n",
       "      <td>0</td>\n",
       "    </tr>\n",
       "    <tr>\n",
       "      <th>3</th>\n",
       "      <td>4</td>\n",
       "      <td>M1C56ijxozNaGD0t2h68PnH2xtx5iO5iR2MVYQB6nBI=</td>\n",
       "      <td>39</td>\n",
       "      <td>30</td>\n",
       "      <td>149</td>\n",
       "      <td>149</td>\n",
       "      <td>1</td>\n",
       "      <td>20150930</td>\n",
       "      <td>20151128</td>\n",
       "      <td>0</td>\n",
       "    </tr>\n",
       "    <tr>\n",
       "      <th>4</th>\n",
       "      <td>5</td>\n",
       "      <td>yvj6zyBUaqdbUQSrKsrZ+xNDVM62knauSZJzakS9OW4=</td>\n",
       "      <td>39</td>\n",
       "      <td>30</td>\n",
       "      <td>149</td>\n",
       "      <td>149</td>\n",
       "      <td>1</td>\n",
       "      <td>20150930</td>\n",
       "      <td>20151121</td>\n",
       "      <td>0</td>\n",
       "    </tr>\n",
       "  </tbody>\n",
       "</table>\n",
       "</div>"
      ],
      "text/plain": [
       "   Unnamed: 0                                          msno  \\\n",
       "0           1  YyO+tlZtAXYXoZhNr3Vg3+dfVQvrBVGO8j1mfqe4ZHc=   \n",
       "1           2  AZtu6Wl0gPojrEQYB8Q3vBSmE2wnZ3hi1FbK1rQQ0A4=   \n",
       "2           3  UkDFI97Qb6+s2LWcijVVv4rMAsORbVDT2wNXF0aVbns=   \n",
       "3           4  M1C56ijxozNaGD0t2h68PnH2xtx5iO5iR2MVYQB6nBI=   \n",
       "4           5  yvj6zyBUaqdbUQSrKsrZ+xNDVM62knauSZJzakS9OW4=   \n",
       "\n",
       "   payment_method_id  payment_plan_days  plan_list_price  actual_amount_paid  \\\n",
       "0                 41                 30              129                 129   \n",
       "1                 41                 30              149                 149   \n",
       "2                 41                 30              129                 129   \n",
       "3                 39                 30              149                 149   \n",
       "4                 39                 30              149                 149   \n",
       "\n",
       "   is_auto_renew  transaction_date  membership_expire_date  is_cancel  \n",
       "0              1          20150930                20151101          0  \n",
       "1              1          20150930                20151031          0  \n",
       "2              1          20150930                20160427          0  \n",
       "3              1          20150930                20151128          0  \n",
       "4              1          20150930                20151121          0  "
      ]
     },
     "execution_count": 50,
     "metadata": {},
     "output_type": "execute_result"
    }
   ],
   "source": [
    "tsdf = dd.read_csv(\"./rowdata/tran_merge.csv\")\n",
    "tsdf.head()"
   ]
  },
  {
   "cell_type": "code",
   "execution_count": 51,
   "metadata": {
    "collapsed": true
   },
   "outputs": [],
   "source": [
    "del tsdf['Unnamed: 0']"
   ]
  },
  {
   "cell_type": "code",
   "execution_count": 52,
   "metadata": {},
   "outputs": [
    {
     "data": {
      "text/html": [
       "<div>\n",
       "<style>\n",
       "    .dataframe thead tr:only-child th {\n",
       "        text-align: right;\n",
       "    }\n",
       "\n",
       "    .dataframe thead th {\n",
       "        text-align: left;\n",
       "    }\n",
       "\n",
       "    .dataframe tbody tr th {\n",
       "        vertical-align: top;\n",
       "    }\n",
       "</style>\n",
       "<table border=\"1\" class=\"dataframe\">\n",
       "  <thead>\n",
       "    <tr style=\"text-align: right;\">\n",
       "      <th></th>\n",
       "      <th>msno</th>\n",
       "      <th>payment_method_id</th>\n",
       "      <th>payment_plan_days</th>\n",
       "      <th>plan_list_price</th>\n",
       "      <th>actual_amount_paid</th>\n",
       "      <th>is_auto_renew</th>\n",
       "      <th>transaction_date</th>\n",
       "      <th>membership_expire_date</th>\n",
       "      <th>is_cancel</th>\n",
       "    </tr>\n",
       "  </thead>\n",
       "  <tbody>\n",
       "    <tr>\n",
       "      <th>0</th>\n",
       "      <td>YyO+tlZtAXYXoZhNr3Vg3+dfVQvrBVGO8j1mfqe4ZHc=</td>\n",
       "      <td>41</td>\n",
       "      <td>30</td>\n",
       "      <td>129</td>\n",
       "      <td>129</td>\n",
       "      <td>1</td>\n",
       "      <td>20150930</td>\n",
       "      <td>20151101</td>\n",
       "      <td>0</td>\n",
       "    </tr>\n",
       "    <tr>\n",
       "      <th>1</th>\n",
       "      <td>AZtu6Wl0gPojrEQYB8Q3vBSmE2wnZ3hi1FbK1rQQ0A4=</td>\n",
       "      <td>41</td>\n",
       "      <td>30</td>\n",
       "      <td>149</td>\n",
       "      <td>149</td>\n",
       "      <td>1</td>\n",
       "      <td>20150930</td>\n",
       "      <td>20151031</td>\n",
       "      <td>0</td>\n",
       "    </tr>\n",
       "    <tr>\n",
       "      <th>2</th>\n",
       "      <td>UkDFI97Qb6+s2LWcijVVv4rMAsORbVDT2wNXF0aVbns=</td>\n",
       "      <td>41</td>\n",
       "      <td>30</td>\n",
       "      <td>129</td>\n",
       "      <td>129</td>\n",
       "      <td>1</td>\n",
       "      <td>20150930</td>\n",
       "      <td>20160427</td>\n",
       "      <td>0</td>\n",
       "    </tr>\n",
       "    <tr>\n",
       "      <th>3</th>\n",
       "      <td>M1C56ijxozNaGD0t2h68PnH2xtx5iO5iR2MVYQB6nBI=</td>\n",
       "      <td>39</td>\n",
       "      <td>30</td>\n",
       "      <td>149</td>\n",
       "      <td>149</td>\n",
       "      <td>1</td>\n",
       "      <td>20150930</td>\n",
       "      <td>20151128</td>\n",
       "      <td>0</td>\n",
       "    </tr>\n",
       "    <tr>\n",
       "      <th>4</th>\n",
       "      <td>yvj6zyBUaqdbUQSrKsrZ+xNDVM62knauSZJzakS9OW4=</td>\n",
       "      <td>39</td>\n",
       "      <td>30</td>\n",
       "      <td>149</td>\n",
       "      <td>149</td>\n",
       "      <td>1</td>\n",
       "      <td>20150930</td>\n",
       "      <td>20151121</td>\n",
       "      <td>0</td>\n",
       "    </tr>\n",
       "  </tbody>\n",
       "</table>\n",
       "</div>"
      ],
      "text/plain": [
       "                                           msno  payment_method_id  \\\n",
       "0  YyO+tlZtAXYXoZhNr3Vg3+dfVQvrBVGO8j1mfqe4ZHc=                 41   \n",
       "1  AZtu6Wl0gPojrEQYB8Q3vBSmE2wnZ3hi1FbK1rQQ0A4=                 41   \n",
       "2  UkDFI97Qb6+s2LWcijVVv4rMAsORbVDT2wNXF0aVbns=                 41   \n",
       "3  M1C56ijxozNaGD0t2h68PnH2xtx5iO5iR2MVYQB6nBI=                 39   \n",
       "4  yvj6zyBUaqdbUQSrKsrZ+xNDVM62knauSZJzakS9OW4=                 39   \n",
       "\n",
       "   payment_plan_days  plan_list_price  actual_amount_paid  is_auto_renew  \\\n",
       "0                 30              129                 129              1   \n",
       "1                 30              149                 149              1   \n",
       "2                 30              129                 129              1   \n",
       "3                 30              149                 149              1   \n",
       "4                 30              149                 149              1   \n",
       "\n",
       "   transaction_date  membership_expire_date  is_cancel  \n",
       "0          20150930                20151101          0  \n",
       "1          20150930                20151031          0  \n",
       "2          20150930                20160427          0  \n",
       "3          20150930                20151128          0  \n",
       "4          20150930                20151121          0  "
      ]
     },
     "execution_count": 52,
     "metadata": {},
     "output_type": "execute_result"
    }
   ],
   "source": [
    "tsdf.head()"
   ]
  },
  {
   "cell_type": "code",
   "execution_count": null,
   "metadata": {
    "collapsed": true
   },
   "outputs": [],
   "source": [
    "#tsdf = tsdf.compute()"
   ]
  },
  {
   "cell_type": "code",
   "execution_count": 54,
   "metadata": {
    "collapsed": true
   },
   "outputs": [],
   "source": [
    "mgalldd = tsdf.merge(mtdf, how='left', left_on='msno', right_on='msno')"
   ]
  },
  {
   "cell_type": "code",
   "execution_count": 55,
   "metadata": {},
   "outputs": [
    {
     "data": {
      "text/html": [
       "<div>\n",
       "<style>\n",
       "    .dataframe thead tr:only-child th {\n",
       "        text-align: right;\n",
       "    }\n",
       "\n",
       "    .dataframe thead th {\n",
       "        text-align: left;\n",
       "    }\n",
       "\n",
       "    .dataframe tbody tr th {\n",
       "        vertical-align: top;\n",
       "    }\n",
       "</style>\n",
       "<table border=\"1\" class=\"dataframe\">\n",
       "  <thead>\n",
       "    <tr style=\"text-align: right;\">\n",
       "      <th></th>\n",
       "      <th>msno</th>\n",
       "      <th>payment_method_id</th>\n",
       "      <th>payment_plan_days</th>\n",
       "      <th>plan_list_price</th>\n",
       "      <th>actual_amount_paid</th>\n",
       "      <th>is_auto_renew</th>\n",
       "      <th>transaction_date</th>\n",
       "      <th>membership_expire_date</th>\n",
       "      <th>is_cancel</th>\n",
       "      <th>is_churn</th>\n",
       "      <th>city</th>\n",
       "      <th>bd</th>\n",
       "      <th>gender</th>\n",
       "      <th>registered_via</th>\n",
       "      <th>registration_init_time</th>\n",
       "    </tr>\n",
       "  </thead>\n",
       "  <tbody>\n",
       "    <tr>\n",
       "      <th>0</th>\n",
       "      <td>YyO+tlZtAXYXoZhNr3Vg3+dfVQvrBVGO8j1mfqe4ZHc=</td>\n",
       "      <td>41</td>\n",
       "      <td>30</td>\n",
       "      <td>129</td>\n",
       "      <td>129</td>\n",
       "      <td>1</td>\n",
       "      <td>20150930</td>\n",
       "      <td>20151101</td>\n",
       "      <td>0</td>\n",
       "      <td>0.0</td>\n",
       "      <td>1.0</td>\n",
       "      <td>0.0</td>\n",
       "      <td>NaN</td>\n",
       "      <td>7.0</td>\n",
       "      <td>2011-06-29</td>\n",
       "    </tr>\n",
       "    <tr>\n",
       "      <th>1</th>\n",
       "      <td>AZtu6Wl0gPojrEQYB8Q3vBSmE2wnZ3hi1FbK1rQQ0A4=</td>\n",
       "      <td>41</td>\n",
       "      <td>30</td>\n",
       "      <td>149</td>\n",
       "      <td>149</td>\n",
       "      <td>1</td>\n",
       "      <td>20150930</td>\n",
       "      <td>20151031</td>\n",
       "      <td>0</td>\n",
       "      <td>0.0</td>\n",
       "      <td>1.0</td>\n",
       "      <td>0.0</td>\n",
       "      <td>NaN</td>\n",
       "      <td>7.0</td>\n",
       "      <td>2013-01-30</td>\n",
       "    </tr>\n",
       "    <tr>\n",
       "      <th>2</th>\n",
       "      <td>UkDFI97Qb6+s2LWcijVVv4rMAsORbVDT2wNXF0aVbns=</td>\n",
       "      <td>41</td>\n",
       "      <td>30</td>\n",
       "      <td>129</td>\n",
       "      <td>129</td>\n",
       "      <td>1</td>\n",
       "      <td>20150930</td>\n",
       "      <td>20160427</td>\n",
       "      <td>0</td>\n",
       "      <td>NaN</td>\n",
       "      <td>NaN</td>\n",
       "      <td>NaN</td>\n",
       "      <td>NaN</td>\n",
       "      <td>NaN</td>\n",
       "      <td>NaT</td>\n",
       "    </tr>\n",
       "    <tr>\n",
       "      <th>3</th>\n",
       "      <td>M1C56ijxozNaGD0t2h68PnH2xtx5iO5iR2MVYQB6nBI=</td>\n",
       "      <td>39</td>\n",
       "      <td>30</td>\n",
       "      <td>149</td>\n",
       "      <td>149</td>\n",
       "      <td>1</td>\n",
       "      <td>20150930</td>\n",
       "      <td>20151128</td>\n",
       "      <td>0</td>\n",
       "      <td>NaN</td>\n",
       "      <td>NaN</td>\n",
       "      <td>NaN</td>\n",
       "      <td>NaN</td>\n",
       "      <td>NaN</td>\n",
       "      <td>NaT</td>\n",
       "    </tr>\n",
       "    <tr>\n",
       "      <th>4</th>\n",
       "      <td>yvj6zyBUaqdbUQSrKsrZ+xNDVM62knauSZJzakS9OW4=</td>\n",
       "      <td>39</td>\n",
       "      <td>30</td>\n",
       "      <td>149</td>\n",
       "      <td>149</td>\n",
       "      <td>1</td>\n",
       "      <td>20150930</td>\n",
       "      <td>20151121</td>\n",
       "      <td>0</td>\n",
       "      <td>0.0</td>\n",
       "      <td>12.0</td>\n",
       "      <td>30.0</td>\n",
       "      <td>female</td>\n",
       "      <td>9.0</td>\n",
       "      <td>2009-09-18</td>\n",
       "    </tr>\n",
       "  </tbody>\n",
       "</table>\n",
       "</div>"
      ],
      "text/plain": [
       "                                           msno  payment_method_id  \\\n",
       "0  YyO+tlZtAXYXoZhNr3Vg3+dfVQvrBVGO8j1mfqe4ZHc=                 41   \n",
       "1  AZtu6Wl0gPojrEQYB8Q3vBSmE2wnZ3hi1FbK1rQQ0A4=                 41   \n",
       "2  UkDFI97Qb6+s2LWcijVVv4rMAsORbVDT2wNXF0aVbns=                 41   \n",
       "3  M1C56ijxozNaGD0t2h68PnH2xtx5iO5iR2MVYQB6nBI=                 39   \n",
       "4  yvj6zyBUaqdbUQSrKsrZ+xNDVM62knauSZJzakS9OW4=                 39   \n",
       "\n",
       "   payment_plan_days  plan_list_price  actual_amount_paid  is_auto_renew  \\\n",
       "0                 30              129                 129              1   \n",
       "1                 30              149                 149              1   \n",
       "2                 30              129                 129              1   \n",
       "3                 30              149                 149              1   \n",
       "4                 30              149                 149              1   \n",
       "\n",
       "   transaction_date  membership_expire_date  is_cancel  is_churn  city    bd  \\\n",
       "0          20150930                20151101          0       0.0   1.0   0.0   \n",
       "1          20150930                20151031          0       0.0   1.0   0.0   \n",
       "2          20150930                20160427          0       NaN   NaN   NaN   \n",
       "3          20150930                20151128          0       NaN   NaN   NaN   \n",
       "4          20150930                20151121          0       0.0  12.0  30.0   \n",
       "\n",
       "   gender  registered_via registration_init_time  \n",
       "0     NaN             7.0             2011-06-29  \n",
       "1     NaN             7.0             2013-01-30  \n",
       "2     NaN             NaN                    NaT  \n",
       "3     NaN             NaN                    NaT  \n",
       "4  female             9.0             2009-09-18  "
      ]
     },
     "execution_count": 55,
     "metadata": {},
     "output_type": "execute_result"
    }
   ],
   "source": [
    "mgalldd.head()"
   ]
  },
  {
   "cell_type": "code",
   "execution_count": 59,
   "metadata": {},
   "outputs": [
    {
     "data": {
      "text/plain": [
       "msno                      22975416\n",
       "payment_method_id         22975416\n",
       "payment_plan_days         22975416\n",
       "plan_list_price           22975416\n",
       "actual_amount_paid        22975416\n",
       "is_auto_renew             22975416\n",
       "transaction_date          22975416\n",
       "membership_expire_date    22975416\n",
       "is_cancel                 22975416\n",
       "is_churn                  17629560\n",
       "city                      15898098\n",
       "bd                        15898098\n",
       "gender                     7744552\n",
       "registered_via            15898098\n",
       "registration_init_time    15898098\n",
       "dtype: int64"
      ]
     },
     "execution_count": 59,
     "metadata": {},
     "output_type": "execute_result"
    }
   ],
   "source": [
    "mgalldd.count().compute()"
   ]
  },
  {
   "cell_type": "code",
   "execution_count": 73,
   "metadata": {},
   "outputs": [
    {
     "name": "stderr",
     "output_type": "stream",
     "text": [
      "C:\\Anaconda3\\lib\\site-packages\\numpy\\lib\\function_base.py:4116: RuntimeWarning: Invalid value encountered in percentile\n",
      "  interpolation=interpolation)\n"
     ]
    },
    {
     "data": {
      "text/html": [
       "<div>\n",
       "<style>\n",
       "    .dataframe thead tr:only-child th {\n",
       "        text-align: right;\n",
       "    }\n",
       "\n",
       "    .dataframe thead th {\n",
       "        text-align: left;\n",
       "    }\n",
       "\n",
       "    .dataframe tbody tr th {\n",
       "        vertical-align: top;\n",
       "    }\n",
       "</style>\n",
       "<table border=\"1\" class=\"dataframe\">\n",
       "  <thead>\n",
       "    <tr style=\"text-align: right;\">\n",
       "      <th></th>\n",
       "      <th>payment_method_id</th>\n",
       "      <th>payment_plan_days</th>\n",
       "      <th>plan_list_price</th>\n",
       "      <th>actual_amount_paid</th>\n",
       "      <th>is_auto_renew</th>\n",
       "      <th>transaction_date</th>\n",
       "      <th>membership_expire_date</th>\n",
       "      <th>is_cancel</th>\n",
       "      <th>is_churn</th>\n",
       "      <th>city</th>\n",
       "      <th>bd</th>\n",
       "      <th>registered_via</th>\n",
       "    </tr>\n",
       "  </thead>\n",
       "  <tbody>\n",
       "    <tr>\n",
       "      <th>count</th>\n",
       "      <td>2.297542e+07</td>\n",
       "      <td>2.297542e+07</td>\n",
       "      <td>2.297542e+07</td>\n",
       "      <td>2.297542e+07</td>\n",
       "      <td>2.297542e+07</td>\n",
       "      <td>2.297542e+07</td>\n",
       "      <td>2.297542e+07</td>\n",
       "      <td>2.297542e+07</td>\n",
       "      <td>1.762956e+07</td>\n",
       "      <td>1.589810e+07</td>\n",
       "      <td>1.589810e+07</td>\n",
       "      <td>1.589810e+07</td>\n",
       "    </tr>\n",
       "    <tr>\n",
       "      <th>mean</th>\n",
       "      <td>3.886963e+01</td>\n",
       "      <td>3.349921e+01</td>\n",
       "      <td>1.487280e+02</td>\n",
       "      <td>1.506711e+02</td>\n",
       "      <td>8.477943e-01</td>\n",
       "      <td>2.015828e+07</td>\n",
       "      <td>2.015940e+07</td>\n",
       "      <td>3.879808e-02</td>\n",
       "      <td>8.728261e-02</td>\n",
       "      <td>6.323378e+00</td>\n",
       "      <td>1.496933e+01</td>\n",
       "      <td>7.056248e+00</td>\n",
       "    </tr>\n",
       "    <tr>\n",
       "      <th>std</th>\n",
       "      <td>3.624264e+00</td>\n",
       "      <td>3.985840e+01</td>\n",
       "      <td>1.704627e+02</td>\n",
       "      <td>1.714726e+02</td>\n",
       "      <td>3.592202e-01</td>\n",
       "      <td>6.627944e+03</td>\n",
       "      <td>8.127187e+03</td>\n",
       "      <td>1.931134e-01</td>\n",
       "      <td>2.822488e-01</td>\n",
       "      <td>6.515471e+00</td>\n",
       "      <td>2.129768e+01</td>\n",
       "      <td>1.836186e+00</td>\n",
       "    </tr>\n",
       "    <tr>\n",
       "      <th>min</th>\n",
       "      <td>1.000000e+00</td>\n",
       "      <td>0.000000e+00</td>\n",
       "      <td>0.000000e+00</td>\n",
       "      <td>0.000000e+00</td>\n",
       "      <td>0.000000e+00</td>\n",
       "      <td>2.015010e+07</td>\n",
       "      <td>1.970010e+07</td>\n",
       "      <td>0.000000e+00</td>\n",
       "      <td>0.000000e+00</td>\n",
       "      <td>1.000000e+00</td>\n",
       "      <td>-3.152000e+03</td>\n",
       "      <td>3.000000e+00</td>\n",
       "    </tr>\n",
       "    <tr>\n",
       "      <th>25%</th>\n",
       "      <td>3.800000e+01</td>\n",
       "      <td>3.000000e+01</td>\n",
       "      <td>9.900000e+01</td>\n",
       "      <td>9.900000e+01</td>\n",
       "      <td>1.000000e+00</td>\n",
       "      <td>2.016032e+07</td>\n",
       "      <td>2.016043e+07</td>\n",
       "      <td>0.000000e+00</td>\n",
       "      <td>NaN</td>\n",
       "      <td>NaN</td>\n",
       "      <td>NaN</td>\n",
       "      <td>NaN</td>\n",
       "    </tr>\n",
       "    <tr>\n",
       "      <th>50%</th>\n",
       "      <td>4.100000e+01</td>\n",
       "      <td>3.000000e+01</td>\n",
       "      <td>1.490000e+02</td>\n",
       "      <td>1.490000e+02</td>\n",
       "      <td>1.000000e+00</td>\n",
       "      <td>2.016092e+07</td>\n",
       "      <td>2.016103e+07</td>\n",
       "      <td>0.000000e+00</td>\n",
       "      <td>NaN</td>\n",
       "      <td>NaN</td>\n",
       "      <td>NaN</td>\n",
       "      <td>NaN</td>\n",
       "    </tr>\n",
       "    <tr>\n",
       "      <th>75%</th>\n",
       "      <td>4.100000e+01</td>\n",
       "      <td>3.000000e+01</td>\n",
       "      <td>1.490000e+02</td>\n",
       "      <td>1.490000e+02</td>\n",
       "      <td>1.000000e+00</td>\n",
       "      <td>2.017032e+07</td>\n",
       "      <td>2.017050e+07</td>\n",
       "      <td>0.000000e+00</td>\n",
       "      <td>NaN</td>\n",
       "      <td>NaN</td>\n",
       "      <td>NaN</td>\n",
       "      <td>NaN</td>\n",
       "    </tr>\n",
       "    <tr>\n",
       "      <th>max</th>\n",
       "      <td>4.100000e+01</td>\n",
       "      <td>4.500000e+02</td>\n",
       "      <td>2.000000e+03</td>\n",
       "      <td>2.000000e+03</td>\n",
       "      <td>1.000000e+00</td>\n",
       "      <td>2.017033e+07</td>\n",
       "      <td>2.036102e+07</td>\n",
       "      <td>1.000000e+00</td>\n",
       "      <td>1.000000e+00</td>\n",
       "      <td>2.200000e+01</td>\n",
       "      <td>2.016000e+03</td>\n",
       "      <td>1.300000e+01</td>\n",
       "    </tr>\n",
       "  </tbody>\n",
       "</table>\n",
       "</div>"
      ],
      "text/plain": [
       "       payment_method_id  payment_plan_days  plan_list_price  \\\n",
       "count       2.297542e+07       2.297542e+07     2.297542e+07   \n",
       "mean        3.886963e+01       3.349921e+01     1.487280e+02   \n",
       "std         3.624264e+00       3.985840e+01     1.704627e+02   \n",
       "min         1.000000e+00       0.000000e+00     0.000000e+00   \n",
       "25%         3.800000e+01       3.000000e+01     9.900000e+01   \n",
       "50%         4.100000e+01       3.000000e+01     1.490000e+02   \n",
       "75%         4.100000e+01       3.000000e+01     1.490000e+02   \n",
       "max         4.100000e+01       4.500000e+02     2.000000e+03   \n",
       "\n",
       "       actual_amount_paid  is_auto_renew  transaction_date  \\\n",
       "count        2.297542e+07   2.297542e+07      2.297542e+07   \n",
       "mean         1.506711e+02   8.477943e-01      2.015828e+07   \n",
       "std          1.714726e+02   3.592202e-01      6.627944e+03   \n",
       "min          0.000000e+00   0.000000e+00      2.015010e+07   \n",
       "25%          9.900000e+01   1.000000e+00      2.016032e+07   \n",
       "50%          1.490000e+02   1.000000e+00      2.016092e+07   \n",
       "75%          1.490000e+02   1.000000e+00      2.017032e+07   \n",
       "max          2.000000e+03   1.000000e+00      2.017033e+07   \n",
       "\n",
       "       membership_expire_date     is_cancel      is_churn          city  \\\n",
       "count            2.297542e+07  2.297542e+07  1.762956e+07  1.589810e+07   \n",
       "mean             2.015940e+07  3.879808e-02  8.728261e-02  6.323378e+00   \n",
       "std              8.127187e+03  1.931134e-01  2.822488e-01  6.515471e+00   \n",
       "min              1.970010e+07  0.000000e+00  0.000000e+00  1.000000e+00   \n",
       "25%              2.016043e+07  0.000000e+00           NaN           NaN   \n",
       "50%              2.016103e+07  0.000000e+00           NaN           NaN   \n",
       "75%              2.017050e+07  0.000000e+00           NaN           NaN   \n",
       "max              2.036102e+07  1.000000e+00  1.000000e+00  2.200000e+01   \n",
       "\n",
       "                 bd  registered_via  \n",
       "count  1.589810e+07    1.589810e+07  \n",
       "mean   1.496933e+01    7.056248e+00  \n",
       "std    2.129768e+01    1.836186e+00  \n",
       "min   -3.152000e+03    3.000000e+00  \n",
       "25%             NaN             NaN  \n",
       "50%             NaN             NaN  \n",
       "75%             NaN             NaN  \n",
       "max    2.016000e+03    1.300000e+01  "
      ]
     },
     "execution_count": 73,
     "metadata": {},
     "output_type": "execute_result"
    }
   ],
   "source": [
    "mgalldd.describe().compute()"
   ]
  },
  {
   "cell_type": "code",
   "execution_count": 74,
   "metadata": {
    "collapsed": true
   },
   "outputs": [],
   "source": [
    "mgallcity = mgalldd[mgalldd['city'].isnull()==False]"
   ]
  },
  {
   "cell_type": "code",
   "execution_count": 75,
   "metadata": {},
   "outputs": [
    {
     "data": {
      "text/html": [
       "<div>\n",
       "<style>\n",
       "    .dataframe thead tr:only-child th {\n",
       "        text-align: right;\n",
       "    }\n",
       "\n",
       "    .dataframe thead th {\n",
       "        text-align: left;\n",
       "    }\n",
       "\n",
       "    .dataframe tbody tr th {\n",
       "        vertical-align: top;\n",
       "    }\n",
       "</style>\n",
       "<table border=\"1\" class=\"dataframe\">\n",
       "  <thead>\n",
       "    <tr style=\"text-align: right;\">\n",
       "      <th></th>\n",
       "      <th>msno</th>\n",
       "      <th>payment_method_id</th>\n",
       "      <th>payment_plan_days</th>\n",
       "      <th>plan_list_price</th>\n",
       "      <th>actual_amount_paid</th>\n",
       "      <th>is_auto_renew</th>\n",
       "      <th>transaction_date</th>\n",
       "      <th>membership_expire_date</th>\n",
       "      <th>is_cancel</th>\n",
       "      <th>is_churn</th>\n",
       "      <th>city</th>\n",
       "      <th>bd</th>\n",
       "      <th>gender</th>\n",
       "      <th>registered_via</th>\n",
       "      <th>registration_init_time</th>\n",
       "    </tr>\n",
       "  </thead>\n",
       "  <tbody>\n",
       "    <tr>\n",
       "      <th>0</th>\n",
       "      <td>YyO+tlZtAXYXoZhNr3Vg3+dfVQvrBVGO8j1mfqe4ZHc=</td>\n",
       "      <td>41</td>\n",
       "      <td>30</td>\n",
       "      <td>129</td>\n",
       "      <td>129</td>\n",
       "      <td>1</td>\n",
       "      <td>20150930</td>\n",
       "      <td>20151101</td>\n",
       "      <td>0</td>\n",
       "      <td>0.0</td>\n",
       "      <td>1.0</td>\n",
       "      <td>0.0</td>\n",
       "      <td>NaN</td>\n",
       "      <td>7.0</td>\n",
       "      <td>2011-06-29</td>\n",
       "    </tr>\n",
       "    <tr>\n",
       "      <th>1</th>\n",
       "      <td>AZtu6Wl0gPojrEQYB8Q3vBSmE2wnZ3hi1FbK1rQQ0A4=</td>\n",
       "      <td>41</td>\n",
       "      <td>30</td>\n",
       "      <td>149</td>\n",
       "      <td>149</td>\n",
       "      <td>1</td>\n",
       "      <td>20150930</td>\n",
       "      <td>20151031</td>\n",
       "      <td>0</td>\n",
       "      <td>0.0</td>\n",
       "      <td>1.0</td>\n",
       "      <td>0.0</td>\n",
       "      <td>NaN</td>\n",
       "      <td>7.0</td>\n",
       "      <td>2013-01-30</td>\n",
       "    </tr>\n",
       "    <tr>\n",
       "      <th>4</th>\n",
       "      <td>yvj6zyBUaqdbUQSrKsrZ+xNDVM62knauSZJzakS9OW4=</td>\n",
       "      <td>39</td>\n",
       "      <td>30</td>\n",
       "      <td>149</td>\n",
       "      <td>149</td>\n",
       "      <td>1</td>\n",
       "      <td>20150930</td>\n",
       "      <td>20151121</td>\n",
       "      <td>0</td>\n",
       "      <td>0.0</td>\n",
       "      <td>12.0</td>\n",
       "      <td>30.0</td>\n",
       "      <td>female</td>\n",
       "      <td>9.0</td>\n",
       "      <td>2009-09-18</td>\n",
       "    </tr>\n",
       "    <tr>\n",
       "      <th>5</th>\n",
       "      <td>KN7I82kjY0Tn76Ny95ncqBUVbO7b8AXrOPqZutKpxIM=</td>\n",
       "      <td>21</td>\n",
       "      <td>30</td>\n",
       "      <td>149</td>\n",
       "      <td>149</td>\n",
       "      <td>1</td>\n",
       "      <td>20150930</td>\n",
       "      <td>20151107</td>\n",
       "      <td>0</td>\n",
       "      <td>0.0</td>\n",
       "      <td>22.0</td>\n",
       "      <td>40.0</td>\n",
       "      <td>male</td>\n",
       "      <td>9.0</td>\n",
       "      <td>2009-12-02</td>\n",
       "    </tr>\n",
       "    <tr>\n",
       "      <th>6</th>\n",
       "      <td>m5ptKif9BjdUghHXXomSezy5ohJiHm85PE13f/3kQaw=</td>\n",
       "      <td>39</td>\n",
       "      <td>30</td>\n",
       "      <td>149</td>\n",
       "      <td>149</td>\n",
       "      <td>1</td>\n",
       "      <td>20150930</td>\n",
       "      <td>20151128</td>\n",
       "      <td>0</td>\n",
       "      <td>0.0</td>\n",
       "      <td>4.0</td>\n",
       "      <td>32.0</td>\n",
       "      <td>female</td>\n",
       "      <td>9.0</td>\n",
       "      <td>2011-05-26</td>\n",
       "    </tr>\n",
       "  </tbody>\n",
       "</table>\n",
       "</div>"
      ],
      "text/plain": [
       "                                           msno  payment_method_id  \\\n",
       "0  YyO+tlZtAXYXoZhNr3Vg3+dfVQvrBVGO8j1mfqe4ZHc=                 41   \n",
       "1  AZtu6Wl0gPojrEQYB8Q3vBSmE2wnZ3hi1FbK1rQQ0A4=                 41   \n",
       "4  yvj6zyBUaqdbUQSrKsrZ+xNDVM62knauSZJzakS9OW4=                 39   \n",
       "5  KN7I82kjY0Tn76Ny95ncqBUVbO7b8AXrOPqZutKpxIM=                 21   \n",
       "6  m5ptKif9BjdUghHXXomSezy5ohJiHm85PE13f/3kQaw=                 39   \n",
       "\n",
       "   payment_plan_days  plan_list_price  actual_amount_paid  is_auto_renew  \\\n",
       "0                 30              129                 129              1   \n",
       "1                 30              149                 149              1   \n",
       "4                 30              149                 149              1   \n",
       "5                 30              149                 149              1   \n",
       "6                 30              149                 149              1   \n",
       "\n",
       "   transaction_date  membership_expire_date  is_cancel  is_churn  city    bd  \\\n",
       "0          20150930                20151101          0       0.0   1.0   0.0   \n",
       "1          20150930                20151031          0       0.0   1.0   0.0   \n",
       "4          20150930                20151121          0       0.0  12.0  30.0   \n",
       "5          20150930                20151107          0       0.0  22.0  40.0   \n",
       "6          20150930                20151128          0       0.0   4.0  32.0   \n",
       "\n",
       "   gender  registered_via registration_init_time  \n",
       "0     NaN             7.0             2011-06-29  \n",
       "1     NaN             7.0             2013-01-30  \n",
       "4  female             9.0             2009-09-18  \n",
       "5    male             9.0             2009-12-02  \n",
       "6  female             9.0             2011-05-26  "
      ]
     },
     "execution_count": 75,
     "metadata": {},
     "output_type": "execute_result"
    }
   ],
   "source": [
    "mgallcity.head()"
   ]
  },
  {
   "cell_type": "code",
   "execution_count": 76,
   "metadata": {
    "scrolled": true
   },
   "outputs": [
    {
     "data": {
      "text/plain": [
       "msno                      15898098\n",
       "payment_method_id         15898098\n",
       "payment_plan_days         15898098\n",
       "plan_list_price           15898098\n",
       "actual_amount_paid        15898098\n",
       "is_auto_renew             15898098\n",
       "transaction_date          15898098\n",
       "membership_expire_date    15898098\n",
       "is_cancel                 15898098\n",
       "is_churn                  15898098\n",
       "city                      15898098\n",
       "bd                        15898098\n",
       "gender                     7744552\n",
       "registered_via            15898098\n",
       "registration_init_time    15898098\n",
       "dtype: int64"
      ]
     },
     "execution_count": 76,
     "metadata": {},
     "output_type": "execute_result"
    }
   ],
   "source": [
    "mgallcity.count().compute()"
   ]
  },
  {
   "cell_type": "code",
   "execution_count": 77,
   "metadata": {
    "collapsed": true
   },
   "outputs": [],
   "source": [
    "mgalldf = mgallcity.compute() "
   ]
  },
  {
   "cell_type": "code",
   "execution_count": 78,
   "metadata": {
    "collapsed": true
   },
   "outputs": [],
   "source": [
    "mgalldf.to_csv('memNall.csv')"
   ]
  },
  {
   "cell_type": "code",
   "execution_count": 79,
   "metadata": {},
   "outputs": [
    {
     "data": {
      "text/html": [
       "<div>\n",
       "<style>\n",
       "    .dataframe thead tr:only-child th {\n",
       "        text-align: right;\n",
       "    }\n",
       "\n",
       "    .dataframe thead th {\n",
       "        text-align: left;\n",
       "    }\n",
       "\n",
       "    .dataframe tbody tr th {\n",
       "        vertical-align: top;\n",
       "    }\n",
       "</style>\n",
       "<table border=\"1\" class=\"dataframe\">\n",
       "  <thead>\n",
       "    <tr style=\"text-align: right;\">\n",
       "      <th></th>\n",
       "      <th>msno</th>\n",
       "      <th>payment_method_id</th>\n",
       "      <th>payment_plan_days</th>\n",
       "      <th>plan_list_price</th>\n",
       "      <th>actual_amount_paid</th>\n",
       "      <th>is_auto_renew</th>\n",
       "      <th>transaction_date</th>\n",
       "      <th>membership_expire_date</th>\n",
       "      <th>is_cancel</th>\n",
       "      <th>is_churn</th>\n",
       "      <th>city</th>\n",
       "      <th>bd</th>\n",
       "      <th>gender</th>\n",
       "      <th>registered_via</th>\n",
       "      <th>registration_init_time</th>\n",
       "    </tr>\n",
       "  </thead>\n",
       "  <tbody>\n",
       "    <tr>\n",
       "      <th>0</th>\n",
       "      <td>YyO+tlZtAXYXoZhNr3Vg3+dfVQvrBVGO8j1mfqe4ZHc=</td>\n",
       "      <td>41</td>\n",
       "      <td>30</td>\n",
       "      <td>129</td>\n",
       "      <td>129</td>\n",
       "      <td>1</td>\n",
       "      <td>20150930</td>\n",
       "      <td>20151101</td>\n",
       "      <td>0</td>\n",
       "      <td>0.0</td>\n",
       "      <td>1.0</td>\n",
       "      <td>0.0</td>\n",
       "      <td>NaN</td>\n",
       "      <td>7.0</td>\n",
       "      <td>2011-06-29</td>\n",
       "    </tr>\n",
       "    <tr>\n",
       "      <th>1</th>\n",
       "      <td>AZtu6Wl0gPojrEQYB8Q3vBSmE2wnZ3hi1FbK1rQQ0A4=</td>\n",
       "      <td>41</td>\n",
       "      <td>30</td>\n",
       "      <td>149</td>\n",
       "      <td>149</td>\n",
       "      <td>1</td>\n",
       "      <td>20150930</td>\n",
       "      <td>20151031</td>\n",
       "      <td>0</td>\n",
       "      <td>0.0</td>\n",
       "      <td>1.0</td>\n",
       "      <td>0.0</td>\n",
       "      <td>NaN</td>\n",
       "      <td>7.0</td>\n",
       "      <td>2013-01-30</td>\n",
       "    </tr>\n",
       "    <tr>\n",
       "      <th>4</th>\n",
       "      <td>yvj6zyBUaqdbUQSrKsrZ+xNDVM62knauSZJzakS9OW4=</td>\n",
       "      <td>39</td>\n",
       "      <td>30</td>\n",
       "      <td>149</td>\n",
       "      <td>149</td>\n",
       "      <td>1</td>\n",
       "      <td>20150930</td>\n",
       "      <td>20151121</td>\n",
       "      <td>0</td>\n",
       "      <td>0.0</td>\n",
       "      <td>12.0</td>\n",
       "      <td>30.0</td>\n",
       "      <td>female</td>\n",
       "      <td>9.0</td>\n",
       "      <td>2009-09-18</td>\n",
       "    </tr>\n",
       "    <tr>\n",
       "      <th>5</th>\n",
       "      <td>KN7I82kjY0Tn76Ny95ncqBUVbO7b8AXrOPqZutKpxIM=</td>\n",
       "      <td>21</td>\n",
       "      <td>30</td>\n",
       "      <td>149</td>\n",
       "      <td>149</td>\n",
       "      <td>1</td>\n",
       "      <td>20150930</td>\n",
       "      <td>20151107</td>\n",
       "      <td>0</td>\n",
       "      <td>0.0</td>\n",
       "      <td>22.0</td>\n",
       "      <td>40.0</td>\n",
       "      <td>male</td>\n",
       "      <td>9.0</td>\n",
       "      <td>2009-12-02</td>\n",
       "    </tr>\n",
       "    <tr>\n",
       "      <th>6</th>\n",
       "      <td>m5ptKif9BjdUghHXXomSezy5ohJiHm85PE13f/3kQaw=</td>\n",
       "      <td>39</td>\n",
       "      <td>30</td>\n",
       "      <td>149</td>\n",
       "      <td>149</td>\n",
       "      <td>1</td>\n",
       "      <td>20150930</td>\n",
       "      <td>20151128</td>\n",
       "      <td>0</td>\n",
       "      <td>0.0</td>\n",
       "      <td>4.0</td>\n",
       "      <td>32.0</td>\n",
       "      <td>female</td>\n",
       "      <td>9.0</td>\n",
       "      <td>2011-05-26</td>\n",
       "    </tr>\n",
       "  </tbody>\n",
       "</table>\n",
       "</div>"
      ],
      "text/plain": [
       "                                           msno  payment_method_id  \\\n",
       "0  YyO+tlZtAXYXoZhNr3Vg3+dfVQvrBVGO8j1mfqe4ZHc=                 41   \n",
       "1  AZtu6Wl0gPojrEQYB8Q3vBSmE2wnZ3hi1FbK1rQQ0A4=                 41   \n",
       "4  yvj6zyBUaqdbUQSrKsrZ+xNDVM62knauSZJzakS9OW4=                 39   \n",
       "5  KN7I82kjY0Tn76Ny95ncqBUVbO7b8AXrOPqZutKpxIM=                 21   \n",
       "6  m5ptKif9BjdUghHXXomSezy5ohJiHm85PE13f/3kQaw=                 39   \n",
       "\n",
       "   payment_plan_days  plan_list_price  actual_amount_paid  is_auto_renew  \\\n",
       "0                 30              129                 129              1   \n",
       "1                 30              149                 149              1   \n",
       "4                 30              149                 149              1   \n",
       "5                 30              149                 149              1   \n",
       "6                 30              149                 149              1   \n",
       "\n",
       "   transaction_date  membership_expire_date  is_cancel  is_churn  city    bd  \\\n",
       "0          20150930                20151101          0       0.0   1.0   0.0   \n",
       "1          20150930                20151031          0       0.0   1.0   0.0   \n",
       "4          20150930                20151121          0       0.0  12.0  30.0   \n",
       "5          20150930                20151107          0       0.0  22.0  40.0   \n",
       "6          20150930                20151128          0       0.0   4.0  32.0   \n",
       "\n",
       "   gender  registered_via registration_init_time  \n",
       "0     NaN             7.0             2011-06-29  \n",
       "1     NaN             7.0             2013-01-30  \n",
       "4  female             9.0             2009-09-18  \n",
       "5    male             9.0             2009-12-02  \n",
       "6  female             9.0             2011-05-26  "
      ]
     },
     "execution_count": 79,
     "metadata": {},
     "output_type": "execute_result"
    }
   ],
   "source": [
    "mgalldf.head()"
   ]
  },
  {
   "cell_type": "markdown",
   "metadata": {},
   "source": [
    "-------"
   ]
  },
  {
   "cell_type": "markdown",
   "metadata": {},
   "source": [
    "## 광섭이 Member 데이터"
   ]
  },
  {
   "cell_type": "code",
   "execution_count": 74,
   "metadata": {},
   "outputs": [
    {
     "data": {
      "text/html": [
       "<div>\n",
       "<style>\n",
       "    .dataframe thead tr:only-child th {\n",
       "        text-align: right;\n",
       "    }\n",
       "\n",
       "    .dataframe thead th {\n",
       "        text-align: left;\n",
       "    }\n",
       "\n",
       "    .dataframe tbody tr th {\n",
       "        vertical-align: top;\n",
       "    }\n",
       "</style>\n",
       "<table border=\"1\" class=\"dataframe\">\n",
       "  <thead>\n",
       "    <tr style=\"text-align: right;\">\n",
       "      <th></th>\n",
       "      <th>Unnamed: 0</th>\n",
       "      <th>msno</th>\n",
       "      <th>city</th>\n",
       "      <th>bd</th>\n",
       "      <th>gender</th>\n",
       "      <th>registered_via</th>\n",
       "      <th>registration_init_time</th>\n",
       "      <th>old.churn</th>\n",
       "      <th>new.churn</th>\n",
       "    </tr>\n",
       "  </thead>\n",
       "  <tbody>\n",
       "    <tr>\n",
       "      <th>0</th>\n",
       "      <td>1</td>\n",
       "      <td>+++hVY1rZox/33YtvDgmKA2Frg/2qhkz12B9ylCvh8o=</td>\n",
       "      <td>1.0</td>\n",
       "      <td>0.0</td>\n",
       "      <td>NaN</td>\n",
       "      <td>7.0</td>\n",
       "      <td>20140608.0</td>\n",
       "      <td>0.0</td>\n",
       "      <td>0.0</td>\n",
       "    </tr>\n",
       "    <tr>\n",
       "      <th>1</th>\n",
       "      <td>2</td>\n",
       "      <td>+++l/EXNMLTijfLBa8p2TUVVVp2aFGSuUI/h7mLmthw=</td>\n",
       "      <td>15.0</td>\n",
       "      <td>26.0</td>\n",
       "      <td>male</td>\n",
       "      <td>9.0</td>\n",
       "      <td>20101118.0</td>\n",
       "      <td>0.0</td>\n",
       "      <td>0.0</td>\n",
       "    </tr>\n",
       "    <tr>\n",
       "      <th>2</th>\n",
       "      <td>3</td>\n",
       "      <td>+++snpr7pmobhLKUgSHTv/mpkqgBT0tQJ0zQj6qKrqc=</td>\n",
       "      <td>1.0</td>\n",
       "      <td>0.0</td>\n",
       "      <td>NaN</td>\n",
       "      <td>7.0</td>\n",
       "      <td>20140927.0</td>\n",
       "      <td>0.0</td>\n",
       "      <td>0.0</td>\n",
       "    </tr>\n",
       "    <tr>\n",
       "      <th>3</th>\n",
       "      <td>4</td>\n",
       "      <td>++/9R3sX37CjxbY/AaGvbwr3QkwElKBCtSvVzhCBDOk=</td>\n",
       "      <td>18.0</td>\n",
       "      <td>21.0</td>\n",
       "      <td>male</td>\n",
       "      <td>7.0</td>\n",
       "      <td>20160315.0</td>\n",
       "      <td>0.0</td>\n",
       "      <td>0.0</td>\n",
       "    </tr>\n",
       "    <tr>\n",
       "      <th>4</th>\n",
       "      <td>5</td>\n",
       "      <td>++/UDNo9DLrxT8QVGiDi1OnWfczAdEwThaVyD0fXO50=</td>\n",
       "      <td>22.0</td>\n",
       "      <td>32.0</td>\n",
       "      <td>male</td>\n",
       "      <td>9.0</td>\n",
       "      <td>20120122.0</td>\n",
       "      <td>0.0</td>\n",
       "      <td>0.0</td>\n",
       "    </tr>\n",
       "    <tr>\n",
       "      <th>5</th>\n",
       "      <td>6</td>\n",
       "      <td>++/ZHqwUNa7U21Qz+zqteiXlZapxey86l6eEorrak/g=</td>\n",
       "      <td>13.0</td>\n",
       "      <td>39.0</td>\n",
       "      <td>male</td>\n",
       "      <td>3.0</td>\n",
       "      <td>20140421.0</td>\n",
       "      <td>0.0</td>\n",
       "      <td>0.0</td>\n",
       "    </tr>\n",
       "    <tr>\n",
       "      <th>6</th>\n",
       "      <td>7</td>\n",
       "      <td>++0/NopttBsaAn6qHZA2AWWrDg7Me7UOMs1vsyo4tSI=</td>\n",
       "      <td>1.0</td>\n",
       "      <td>0.0</td>\n",
       "      <td>NaN</td>\n",
       "      <td>7.0</td>\n",
       "      <td>20160320.0</td>\n",
       "      <td>0.0</td>\n",
       "      <td>0.0</td>\n",
       "    </tr>\n",
       "    <tr>\n",
       "      <th>7</th>\n",
       "      <td>8</td>\n",
       "      <td>++0BJXY8tpirgIhJR14LDM1pnaRosjD1mdO1mIKxlJA=</td>\n",
       "      <td>1.0</td>\n",
       "      <td>0.0</td>\n",
       "      <td>NaN</td>\n",
       "      <td>9.0</td>\n",
       "      <td>20150807.0</td>\n",
       "      <td>0.0</td>\n",
       "      <td>0.0</td>\n",
       "    </tr>\n",
       "    <tr>\n",
       "      <th>8</th>\n",
       "      <td>9</td>\n",
       "      <td>++0EzISdtKY48Z0GY62jer/LFQwrNIAbADdtU5xStGY=</td>\n",
       "      <td>1.0</td>\n",
       "      <td>0.0</td>\n",
       "      <td>NaN</td>\n",
       "      <td>3.0</td>\n",
       "      <td>20131205.0</td>\n",
       "      <td>0.0</td>\n",
       "      <td>0.0</td>\n",
       "    </tr>\n",
       "    <tr>\n",
       "      <th>9</th>\n",
       "      <td>10</td>\n",
       "      <td>++0nOC7BmrUTtcSboRORfg6ZXTajnBDt1f/SEgH6ONo=</td>\n",
       "      <td>13.0</td>\n",
       "      <td>25.0</td>\n",
       "      <td>male</td>\n",
       "      <td>9.0</td>\n",
       "      <td>20100203.0</td>\n",
       "      <td>NaN</td>\n",
       "      <td>0.0</td>\n",
       "    </tr>\n",
       "  </tbody>\n",
       "</table>\n",
       "</div>"
      ],
      "text/plain": [
       "   Unnamed: 0                                          msno  city    bd  \\\n",
       "0           1  +++hVY1rZox/33YtvDgmKA2Frg/2qhkz12B9ylCvh8o=   1.0   0.0   \n",
       "1           2  +++l/EXNMLTijfLBa8p2TUVVVp2aFGSuUI/h7mLmthw=  15.0  26.0   \n",
       "2           3  +++snpr7pmobhLKUgSHTv/mpkqgBT0tQJ0zQj6qKrqc=   1.0   0.0   \n",
       "3           4  ++/9R3sX37CjxbY/AaGvbwr3QkwElKBCtSvVzhCBDOk=  18.0  21.0   \n",
       "4           5  ++/UDNo9DLrxT8QVGiDi1OnWfczAdEwThaVyD0fXO50=  22.0  32.0   \n",
       "5           6  ++/ZHqwUNa7U21Qz+zqteiXlZapxey86l6eEorrak/g=  13.0  39.0   \n",
       "6           7  ++0/NopttBsaAn6qHZA2AWWrDg7Me7UOMs1vsyo4tSI=   1.0   0.0   \n",
       "7           8  ++0BJXY8tpirgIhJR14LDM1pnaRosjD1mdO1mIKxlJA=   1.0   0.0   \n",
       "8           9  ++0EzISdtKY48Z0GY62jer/LFQwrNIAbADdtU5xStGY=   1.0   0.0   \n",
       "9          10  ++0nOC7BmrUTtcSboRORfg6ZXTajnBDt1f/SEgH6ONo=  13.0  25.0   \n",
       "\n",
       "  gender  registered_via  registration_init_time  old.churn  new.churn  \n",
       "0    NaN             7.0              20140608.0        0.0        0.0  \n",
       "1   male             9.0              20101118.0        0.0        0.0  \n",
       "2    NaN             7.0              20140927.0        0.0        0.0  \n",
       "3   male             7.0              20160315.0        0.0        0.0  \n",
       "4   male             9.0              20120122.0        0.0        0.0  \n",
       "5   male             3.0              20140421.0        0.0        0.0  \n",
       "6    NaN             7.0              20160320.0        0.0        0.0  \n",
       "7    NaN             9.0              20150807.0        0.0        0.0  \n",
       "8    NaN             3.0              20131205.0        0.0        0.0  \n",
       "9   male             9.0              20100203.0        NaN        0.0  "
      ]
     },
     "execution_count": 74,
     "metadata": {},
     "output_type": "execute_result"
    }
   ],
   "source": [
    "gs = pd.read_csv(\"./member_v1.csv\")\n",
    "gs.head(10)"
   ]
  },
  {
   "cell_type": "code",
   "execution_count": 61,
   "metadata": {},
   "outputs": [
    {
     "name": "stdout",
     "output_type": "stream",
     "text": [
      "<class 'pandas.core.frame.DataFrame'>\n",
      "RangeIndex: 1082190 entries, 0 to 1082189\n",
      "Data columns (total 9 columns):\n",
      "Unnamed: 0                1082190 non-null int64\n",
      "msno                      1082190 non-null object\n",
      "city                      961431 non-null float64\n",
      "bd                        961431 non-null float64\n",
      "gender                    442069 non-null object\n",
      "registered_via            961431 non-null float64\n",
      "registration_init_time    961431 non-null float64\n",
      "old.churn                 992931 non-null float64\n",
      "new.churn                 970960 non-null float64\n",
      "dtypes: float64(6), int64(1), object(2)\n",
      "memory usage: 74.3+ MB\n"
     ]
    }
   ],
   "source": [
    "gs.info()"
   ]
  },
  {
   "cell_type": "code",
   "execution_count": 75,
   "metadata": {
    "collapsed": true
   },
   "outputs": [],
   "source": [
    "del gs['Unnamed: 0']"
   ]
  },
  {
   "cell_type": "code",
   "execution_count": 76,
   "metadata": {},
   "outputs": [
    {
     "data": {
      "text/html": [
       "<div>\n",
       "<style>\n",
       "    .dataframe thead tr:only-child th {\n",
       "        text-align: right;\n",
       "    }\n",
       "\n",
       "    .dataframe thead th {\n",
       "        text-align: left;\n",
       "    }\n",
       "\n",
       "    .dataframe tbody tr th {\n",
       "        vertical-align: top;\n",
       "    }\n",
       "</style>\n",
       "<table border=\"1\" class=\"dataframe\">\n",
       "  <thead>\n",
       "    <tr style=\"text-align: right;\">\n",
       "      <th></th>\n",
       "      <th>msno</th>\n",
       "      <th>city</th>\n",
       "      <th>bd</th>\n",
       "      <th>gender</th>\n",
       "      <th>registered_via</th>\n",
       "      <th>registration_init_time</th>\n",
       "      <th>old.churn</th>\n",
       "      <th>new.churn</th>\n",
       "    </tr>\n",
       "  </thead>\n",
       "  <tbody>\n",
       "    <tr>\n",
       "      <th>0</th>\n",
       "      <td>+++hVY1rZox/33YtvDgmKA2Frg/2qhkz12B9ylCvh8o=</td>\n",
       "      <td>1.0</td>\n",
       "      <td>0.0</td>\n",
       "      <td>NaN</td>\n",
       "      <td>7.0</td>\n",
       "      <td>20140608.0</td>\n",
       "      <td>0.0</td>\n",
       "      <td>0.0</td>\n",
       "    </tr>\n",
       "    <tr>\n",
       "      <th>1</th>\n",
       "      <td>+++l/EXNMLTijfLBa8p2TUVVVp2aFGSuUI/h7mLmthw=</td>\n",
       "      <td>15.0</td>\n",
       "      <td>26.0</td>\n",
       "      <td>male</td>\n",
       "      <td>9.0</td>\n",
       "      <td>20101118.0</td>\n",
       "      <td>0.0</td>\n",
       "      <td>0.0</td>\n",
       "    </tr>\n",
       "    <tr>\n",
       "      <th>2</th>\n",
       "      <td>+++snpr7pmobhLKUgSHTv/mpkqgBT0tQJ0zQj6qKrqc=</td>\n",
       "      <td>1.0</td>\n",
       "      <td>0.0</td>\n",
       "      <td>NaN</td>\n",
       "      <td>7.0</td>\n",
       "      <td>20140927.0</td>\n",
       "      <td>0.0</td>\n",
       "      <td>0.0</td>\n",
       "    </tr>\n",
       "    <tr>\n",
       "      <th>3</th>\n",
       "      <td>++/9R3sX37CjxbY/AaGvbwr3QkwElKBCtSvVzhCBDOk=</td>\n",
       "      <td>18.0</td>\n",
       "      <td>21.0</td>\n",
       "      <td>male</td>\n",
       "      <td>7.0</td>\n",
       "      <td>20160315.0</td>\n",
       "      <td>0.0</td>\n",
       "      <td>0.0</td>\n",
       "    </tr>\n",
       "    <tr>\n",
       "      <th>4</th>\n",
       "      <td>++/UDNo9DLrxT8QVGiDi1OnWfczAdEwThaVyD0fXO50=</td>\n",
       "      <td>22.0</td>\n",
       "      <td>32.0</td>\n",
       "      <td>male</td>\n",
       "      <td>9.0</td>\n",
       "      <td>20120122.0</td>\n",
       "      <td>0.0</td>\n",
       "      <td>0.0</td>\n",
       "    </tr>\n",
       "  </tbody>\n",
       "</table>\n",
       "</div>"
      ],
      "text/plain": [
       "                                           msno  city    bd gender  \\\n",
       "0  +++hVY1rZox/33YtvDgmKA2Frg/2qhkz12B9ylCvh8o=   1.0   0.0    NaN   \n",
       "1  +++l/EXNMLTijfLBa8p2TUVVVp2aFGSuUI/h7mLmthw=  15.0  26.0   male   \n",
       "2  +++snpr7pmobhLKUgSHTv/mpkqgBT0tQJ0zQj6qKrqc=   1.0   0.0    NaN   \n",
       "3  ++/9R3sX37CjxbY/AaGvbwr3QkwElKBCtSvVzhCBDOk=  18.0  21.0   male   \n",
       "4  ++/UDNo9DLrxT8QVGiDi1OnWfczAdEwThaVyD0fXO50=  22.0  32.0   male   \n",
       "\n",
       "   registered_via  registration_init_time  old.churn  new.churn  \n",
       "0             7.0              20140608.0        0.0        0.0  \n",
       "1             9.0              20101118.0        0.0        0.0  \n",
       "2             7.0              20140927.0        0.0        0.0  \n",
       "3             7.0              20160315.0        0.0        0.0  \n",
       "4             9.0              20120122.0        0.0        0.0  "
      ]
     },
     "execution_count": 76,
     "metadata": {},
     "output_type": "execute_result"
    }
   ],
   "source": [
    "gs.head()"
   ]
  },
  {
   "cell_type": "code",
   "execution_count": null,
   "metadata": {
    "collapsed": true
   },
   "outputs": [],
   "source": []
  }
 ],
 "metadata": {
  "kernelspec": {
   "display_name": "Python 3",
   "language": "python",
   "name": "python3"
  },
  "language_info": {
   "codemirror_mode": {
    "name": "ipython",
    "version": 3
   },
   "file_extension": ".py",
   "mimetype": "text/x-python",
   "name": "python",
   "nbconvert_exporter": "python",
   "pygments_lexer": "ipython3",
   "version": "3.6.3"
  }
 },
 "nbformat": 4,
 "nbformat_minor": 2
}
